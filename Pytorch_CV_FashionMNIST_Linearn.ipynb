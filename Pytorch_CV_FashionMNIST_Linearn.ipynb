{
  "cells": [
    {
      "cell_type": "markdown",
      "metadata": {
        "id": "H02yLHcPD1os"
      },
      "source": [
        "**PYTORCH WITH COMPUTER VISION**"
      ]
    },
    {
      "cell_type": "markdown",
      "metadata": {
        "id": "FOSq1ovR7GAc"
      },
      "source": [
        "**Model Linear with datasets FashionMNIST**\n",
        "\n"
      ]
    },
    {
      "cell_type": "markdown",
      "metadata": {
        "id": "TINZzXejDv8P"
      },
      "source": [
        "1. Import nessesary librarys"
      ]
    },
    {
      "cell_type": "code",
      "execution_count": 1,
      "metadata": {
        "colab": {
          "base_uri": "https://localhost:8080/"
        },
        "id": "kCRAx_dJ-WMr",
        "outputId": "c0350dc8-6cba-43a1-cd84-3b76be028e69"
      },
      "outputs": [
        {
          "name": "stdout",
          "output_type": "stream",
          "text": [
            "1.13.0+cpu\n",
            "0.14.0+cpu\n"
          ]
        }
      ],
      "source": [
        "# import torch\n",
        "import torch\n",
        "from torch import nn\n",
        "\n",
        "# import torchvision\n",
        "import torchvision\n",
        "from torchvision import datasets\n",
        "from torchvision import transforms\n",
        "from torchvision.transforms import ToTensor\n",
        "\n",
        "# import matplotlib\n",
        "import matplotlib.pyplot as plt\n",
        "\n",
        "# import math\n",
        "import math\n",
        "\n",
        "print(torch.__version__)\n",
        "print(torchvision.__version__)"
      ]
    },
    {
      "cell_type": "markdown",
      "metadata": {
        "id": "b6-mzi6udYkQ"
      },
      "source": [
        "2. Get dataset from torch.datasets.FashionMNIST"
      ]
    },
    {
      "cell_type": "code",
      "execution_count": 2,
      "metadata": {
        "id": "bllVSctsEEJd"
      },
      "outputs": [
        {
          "name": "stdout",
          "output_type": "stream",
          "text": [
            "Downloading http://fashion-mnist.s3-website.eu-central-1.amazonaws.com/train-images-idx3-ubyte.gz\n",
            "Downloading http://fashion-mnist.s3-website.eu-central-1.amazonaws.com/train-images-idx3-ubyte.gz to data\\FashionMNIST\\raw\\train-images-idx3-ubyte.gz\n"
          ]
        },
        {
          "data": {
            "application/vnd.jupyter.widget-view+json": {
              "model_id": "cc8b0cc0f589407e9d153262b6104286",
              "version_major": 2,
              "version_minor": 0
            },
            "text/plain": [
              "  0%|          | 0/26421880 [00:00<?, ?it/s]"
            ]
          },
          "metadata": {},
          "output_type": "display_data"
        },
        {
          "name": "stdout",
          "output_type": "stream",
          "text": [
            "Extracting data\\FashionMNIST\\raw\\train-images-idx3-ubyte.gz to data\\FashionMNIST\\raw\n",
            "\n",
            "Downloading http://fashion-mnist.s3-website.eu-central-1.amazonaws.com/train-labels-idx1-ubyte.gz\n",
            "Downloading http://fashion-mnist.s3-website.eu-central-1.amazonaws.com/train-labels-idx1-ubyte.gz to data\\FashionMNIST\\raw\\train-labels-idx1-ubyte.gz\n"
          ]
        },
        {
          "data": {
            "application/vnd.jupyter.widget-view+json": {
              "model_id": "cf26ea2b801840acbe10d314abfe9e5b",
              "version_major": 2,
              "version_minor": 0
            },
            "text/plain": [
              "  0%|          | 0/29515 [00:00<?, ?it/s]"
            ]
          },
          "metadata": {},
          "output_type": "display_data"
        },
        {
          "name": "stdout",
          "output_type": "stream",
          "text": [
            "Extracting data\\FashionMNIST\\raw\\train-labels-idx1-ubyte.gz to data\\FashionMNIST\\raw\n",
            "\n",
            "Downloading http://fashion-mnist.s3-website.eu-central-1.amazonaws.com/t10k-images-idx3-ubyte.gz\n",
            "Downloading http://fashion-mnist.s3-website.eu-central-1.amazonaws.com/t10k-images-idx3-ubyte.gz to data\\FashionMNIST\\raw\\t10k-images-idx3-ubyte.gz\n"
          ]
        },
        {
          "data": {
            "application/vnd.jupyter.widget-view+json": {
              "model_id": "1d15f82cd41a4b1c80a0c3897adb0b66",
              "version_major": 2,
              "version_minor": 0
            },
            "text/plain": [
              "  0%|          | 0/4422102 [00:00<?, ?it/s]"
            ]
          },
          "metadata": {},
          "output_type": "display_data"
        },
        {
          "name": "stdout",
          "output_type": "stream",
          "text": [
            "Extracting data\\FashionMNIST\\raw\\t10k-images-idx3-ubyte.gz to data\\FashionMNIST\\raw\n",
            "\n",
            "Downloading http://fashion-mnist.s3-website.eu-central-1.amazonaws.com/t10k-labels-idx1-ubyte.gz\n",
            "Downloading http://fashion-mnist.s3-website.eu-central-1.amazonaws.com/t10k-labels-idx1-ubyte.gz to data\\FashionMNIST\\raw\\t10k-labels-idx1-ubyte.gz\n"
          ]
        },
        {
          "data": {
            "application/vnd.jupyter.widget-view+json": {
              "model_id": "8314cf88845946a6a285f66b8aea7d6f",
              "version_major": 2,
              "version_minor": 0
            },
            "text/plain": [
              "  0%|          | 0/5148 [00:00<?, ?it/s]"
            ]
          },
          "metadata": {},
          "output_type": "display_data"
        },
        {
          "name": "stdout",
          "output_type": "stream",
          "text": [
            "Extracting data\\FashionMNIST\\raw\\t10k-labels-idx1-ubyte.gz to data\\FashionMNIST\\raw\n",
            "\n"
          ]
        }
      ],
      "source": [
        "train_data = datasets.FashionMNIST( \n",
        "    root=\"data\",\n",
        "    train = True,\n",
        "    download = True,\n",
        "    transform = ToTensor(),\n",
        "    target_transform=None\n",
        ")\n",
        "\n",
        "test_data = datasets.FashionMNIST(\n",
        "    root=\"data\",\n",
        "    train = False,\n",
        "    download = True,\n",
        "    transform = ToTensor(),\n",
        "    target_transform=None\n",
        ")"
      ]
    },
    {
      "cell_type": "markdown",
      "metadata": {
        "id": "bc7uL78AeMCW"
      },
      "source": [
        "Show infomation of dataset"
      ]
    },
    {
      "cell_type": "code",
      "execution_count": 3,
      "metadata": {
        "colab": {
          "base_uri": "https://localhost:8080/"
        },
        "id": "yxo74-SpOBqo",
        "outputId": "87eb7259-ff8e-4ce9-b47d-39cd95798b9c"
      },
      "outputs": [
        {
          "name": "stdout",
          "output_type": "stream",
          "text": [
            "Shape : x_train -> y_train -> x_test -> y_test\n",
            "torch.Size([60000, 28, 28])\n",
            "torch.Size([60000])\n",
            "torch.Size([10000, 28, 28])\n",
            "torch.Size([10000])\n",
            "------------------------------\n",
            "Label Unique#\n",
            "tensor([0, 1, 2, 3, 4, 5, 6, 7, 8, 9])\n",
            "------------------------------\n",
            "Label Classes#\n",
            "['T-shirt/top', 'Trouser', 'Pullover', 'Dress', 'Coat', 'Sandal', 'Shirt', 'Sneaker', 'Bag', 'Ankle boot']\n"
          ]
        }
      ],
      "source": [
        "print(\"Shape : x_train -> y_train -> x_test -> y_test\")\n",
        "print(train_data.data.shape)\n",
        "print(train_data.targets.shape)\n",
        "print(test_data.data.shape)\n",
        "print(test_data.targets.shape)\n",
        "print(\"-\"*30)\n",
        "print(\"Label Unique#\")\n",
        "print(train_data.targets.unique())\n",
        "print(\"-\"*30)\n",
        "print(\"Label Classes#\")\n",
        "print(train_data.classes)"
      ]
    },
    {
      "cell_type": "markdown",
      "metadata": {
        "id": "X4KHOci7ePVD"
      },
      "source": [
        "Count value of each label in train_data"
      ]
    },
    {
      "cell_type": "code",
      "execution_count": 4,
      "metadata": {
        "colab": {
          "base_uri": "https://localhost:8080/"
        },
        "id": "LxqnLVWUReFY",
        "outputId": "771543eb-b2d5-4ef1-831a-4c0d70778864"
      },
      "outputs": [
        {
          "data": {
            "text/plain": [
              "Counter({0: 6000,\n",
              "         1: 6000,\n",
              "         2: 6000,\n",
              "         3: 6000,\n",
              "         4: 6000,\n",
              "         5: 6000,\n",
              "         6: 6000,\n",
              "         7: 6000,\n",
              "         8: 6000,\n",
              "         9: 6000})"
            ]
          },
          "execution_count": 4,
          "metadata": {},
          "output_type": "execute_result"
        }
      ],
      "source": [
        "from collections import Counter\n",
        "train_classes = sorted([label for _, label in train_data])\n",
        "Counter(train_classes)"
      ]
    },
    {
      "cell_type": "markdown",
      "metadata": {
        "id": "fO_ReiKMeUhb"
      },
      "source": [
        "Visualizer train data"
      ]
    },
    {
      "cell_type": "code",
      "execution_count": 5,
      "metadata": {
        "colab": {
          "base_uri": "https://localhost:8080/",
          "height": 1000
        },
        "id": "C6TzVdaIPXGR",
        "outputId": "e2dca1d3-dc9f-44a0-ddca-e7fc9147baa7"
      },
      "outputs": [
        {
          "data": {
            "image/png": "[encoded data removed]",
            "text/plain": [
              "<Figure size 2000x2000 with 64 Axes>"
            ]
          },
          "metadata": {},
          "output_type": "display_data"
        }
      ],
      "source": [
        "# Show 8x8 = 64 100 image and lable of train_data\n",
        "numbers_to_display = 64\n",
        "num_cells = math.ceil(math.sqrt(numbers_to_display))\n",
        "plt.figure(figsize=(20,20))\n",
        "for i in range(numbers_to_display):\n",
        "    plt.subplot(num_cells, num_cells, i+1)\n",
        "    plt.xticks([]) # don't show number in horizontal axis\n",
        "    plt.yticks([]) # don't show number in vertical axis\n",
        "    plt.imshow(train_data.data[i], cmap=plt.cm.binary) \n",
        "    plt.xlabel(train_data.classes[train_data.targets[i].item()])\n",
        "plt.show()"
      ]
    },
    {
      "cell_type": "markdown",
      "metadata": {
        "id": "cL60pbXfegak"
      },
      "source": [
        "3. DataLoader (torch.utils.data.DataLoader)"
      ]
    },
    {
      "cell_type": "code",
      "execution_count": 6,
      "metadata": {
        "id": "00iLpz2kRWfd"
      },
      "outputs": [],
      "source": [
        "from torch.utils.data import DataLoader\n",
        "BATCH_SIZE = 32\n",
        "\n",
        "train_dataloader = DataLoader(dataset=train_data,\n",
        "                              batch_size = BATCH_SIZE,\n",
        "                              shuffle = True)\n",
        "\n",
        "test_dataloader = DataLoader(dataset=test_data,\n",
        "                              batch_size = BATCH_SIZE,\n",
        "                              shuffle = False)"
      ]
    },
    {
      "cell_type": "code",
      "execution_count": 7,
      "metadata": {
        "colab": {
          "base_uri": "https://localhost:8080/"
        },
        "id": "MYPeUJfCfaTm",
        "outputId": "9d6106fb-e792-4e82-99dc-f40c118812c5"
      },
      "outputs": [
        {
          "name": "stdout",
          "output_type": "stream",
          "text": [
            "BATCH_SIZE = 32\n",
            "1875 batch in 60000 training samples\n",
            "313 batch in 10000 testing samples\n"
          ]
        }
      ],
      "source": [
        "print(\"BATCH_SIZE = 32\")\n",
        "print(f\"{len(train_dataloader)} batch in {len(train_data)} training samples\")\n",
        "print(f\"{len(test_dataloader)} batch in {len(test_data)} testing samples\")"
      ]
    },
    {
      "cell_type": "code",
      "execution_count": 8,
      "metadata": {
        "colab": {
          "base_uri": "https://localhost:8080/"
        },
        "id": "MSlrjWPSgKZI",
        "outputId": "26a407e6-22b6-4ff9-c869-fec0dcfc09a3"
      },
      "outputs": [
        {
          "name": "stdout",
          "output_type": "stream",
          "text": [
            "Shape of features or labels in 1 batch\n"
          ]
        },
        {
          "data": {
            "text/plain": [
              "(torch.Size([32, 1, 28, 28]), torch.Size([32]))"
            ]
          },
          "execution_count": 8,
          "metadata": {},
          "output_type": "execute_result"
        }
      ],
      "source": [
        "train_features , train_labels = next(iter(train_dataloader))\n",
        "print(\"Shape of features or labels in 1 batch\")\n",
        "train_features.shape , train_labels.shape"
      ]
    },
    {
      "cell_type": "markdown",
      "metadata": {
        "id": "ht9PNXZE8bUe"
      },
      "source": [
        "4. Build model"
      ]
    },
    {
      "cell_type": "code",
      "execution_count": 9,
      "metadata": {
        "id": "asXItdnL8dgo"
      },
      "outputs": [],
      "source": [
        "class FashionMNIST_ModelV0(nn.Module):\n",
        "    def __init__(self,input_units,hidden_units,output_units):\n",
        "        super().__init__()\n",
        "        self.seq_layer = nn.Sequential(\n",
        "            nn.Flatten(),\n",
        "            nn.Linear(in_features=input_units,out_features=hidden_units),\n",
        "            nn.Linear(in_features=hidden_units,out_features=hidden_units),\n",
        "            nn.Linear(in_features=hidden_units,out_features=output_units)\n",
        "        )\n",
        "    def forward(self,x):\n",
        "        return self.seq_layer(x)\n",
        "\n",
        "class FashionMNIST_ModelV1(nn.Module):\n",
        "    def __init__(self,input_units,hidden_units,output_units):\n",
        "        super().__init__()\n",
        "        self.seq_layer = nn.Sequential(\n",
        "            nn.Flatten(),\n",
        "            nn.Linear(in_features=input_units,out_features=hidden_units),\n",
        "            nn.ReLU(),\n",
        "            nn.Linear(in_features=hidden_units,out_features=hidden_units),\n",
        "            nn.ReLU(),\n",
        "            nn.Linear(in_features=hidden_units,out_features=output_units)\n",
        "        )\n",
        "    def forward(self,x):\n",
        "        return self.seq_layer(x)"
      ]
    },
    {
      "cell_type": "markdown",
      "metadata": {
        "id": "_SCpMHI9zz3B"
      },
      "source": [
        "Initialize models"
      ]
    },
    {
      "cell_type": "code",
      "execution_count": 10,
      "metadata": {
        "colab": {
          "base_uri": "https://localhost:8080/"
        },
        "id": "1uYeZA0z-Vfk",
        "outputId": "1386f3d5-9781-4f71-8d6b-a84d4da46cd4"
      },
      "outputs": [
        {
          "name": "stdout",
          "output_type": "stream",
          "text": [
            "FashionMNIST_ModelV0(\n",
            "  (seq_layer): Sequential(\n",
            "    (0): Flatten(start_dim=1, end_dim=-1)\n",
            "    (1): Linear(in_features=784, out_features=32, bias=True)\n",
            "    (2): Linear(in_features=32, out_features=32, bias=True)\n",
            "    (3): Linear(in_features=32, out_features=10, bias=True)\n",
            "  )\n",
            ")\n",
            "FashionMNIST_ModelV1(\n",
            "  (seq_layer): Sequential(\n",
            "    (0): Flatten(start_dim=1, end_dim=-1)\n",
            "    (1): Linear(in_features=784, out_features=32, bias=True)\n",
            "    (2): ReLU()\n",
            "    (3): Linear(in_features=32, out_features=32, bias=True)\n",
            "    (4): ReLU()\n",
            "    (5): Linear(in_features=32, out_features=10, bias=True)\n",
            "  )\n",
            ")\n"
          ]
        }
      ],
      "source": [
        "model_not_relu = FashionMNIST_ModelV0(\n",
        "    input_units = 784,\n",
        "    hidden_units = 32,\n",
        "    output_units = len(train_data.classes)\n",
        ")\n",
        "\n",
        "model_relu = FashionMNIST_ModelV1(\n",
        "    input_units = 784,\n",
        "    hidden_units = 32,\n",
        "    output_units = len(train_data.classes)\n",
        ")\n",
        "\n",
        "print(model_not_relu)\n",
        "print(model_relu)"
      ]
    },
    {
      "cell_type": "markdown",
      "metadata": {
        "id": "FupPn26W_axH"
      },
      "source": [
        "5. Setup loss function, optimizer and accuracy func"
      ]
    },
    {
      "cell_type": "code",
      "execution_count": 11,
      "metadata": {
        "id": "vq6rr7Ej-4vh"
      },
      "outputs": [],
      "source": [
        "loss_fn = nn.CrossEntropyLoss()\n",
        "opt_not_relu = torch.optim.SGD(params=model_not_relu.parameters(), lr=0.05)\n",
        "opt_relu = torch.optim.SGD(params=model_relu.parameters(), lr=0.05)"
      ]
    },
    {
      "cell_type": "code",
      "execution_count": 12,
      "metadata": {
        "id": "qgcIV0qf_v5b"
      },
      "outputs": [
        {
          "name": "stdout",
          "output_type": "stream",
          "text": [
            "Collecting torchmetrics\n",
            "  Downloading torchmetrics-0.11.4-py3-none-any.whl (519 kB)\n",
            "     ------------------------------------ 519.2/519.2 kB 603.0 kB/s eta 0:00:00\n",
            "Requirement already satisfied: torch>=1.8.1 in c:\\users\\admin\\appdata\\local\\programs\\python\\python310\\lib\\site-packages (from torchmetrics) (1.13.0)\n",
            "Requirement already satisfied: numpy>=1.17.2 in c:\\users\\admin\\appdata\\local\\programs\\python\\python310\\lib\\site-packages (from torchmetrics) (1.23.4)\n",
            "Requirement already satisfied: packaging in c:\\users\\admin\\appdata\\local\\programs\\python\\python310\\lib\\site-packages (from torchmetrics) (21.3)\n",
            "Requirement already satisfied: typing-extensions in c:\\users\\admin\\appdata\\local\\programs\\python\\python310\\lib\\site-packages (from torch>=1.8.1->torchmetrics) (4.4.0)\n",
            "Requirement already satisfied: pyparsing!=3.0.5,>=2.0.2 in c:\\users\\admin\\appdata\\local\\programs\\python\\python310\\lib\\site-packages (from packaging->torchmetrics) (3.0.9)\n",
            "Installing collected packages: torchmetrics\n",
            "Successfully installed torchmetrics-0.11.4\n"
          ]
        }
      ],
      "source": [
        "try :\n",
        "    from torchmetrics import Accuracy,ConfusionMatrix\n",
        "except:\n",
        "    ! pip install torchmetrics\n",
        "    from torchmetrics import Accuracy,ConfusionMatrix"
      ]
    },
    {
      "cell_type": "code",
      "execution_count": 13,
      "metadata": {
        "id": "BkkI6H8FAkas"
      },
      "outputs": [],
      "source": [
        "accuracy_fn = Accuracy(task=\"multiclass\", num_classes=len(train_data.classes))"
      ]
    },
    {
      "cell_type": "markdown",
      "metadata": {
        "id": "sWfed90n0H1l"
      },
      "source": [
        "6. Creating training func"
      ]
    },
    {
      "cell_type": "code",
      "execution_count": 15,
      "metadata": {
        "id": "Udn8S5jzwkSo"
      },
      "outputs": [],
      "source": [
        "from tqdm.auto import tqdm\n",
        "def training(model : nn.Module,\n",
        "            loss_fn : nn.CrossEntropyLoss,\n",
        "            opt : torch.optim.SGD,\n",
        "            accuracy_fn,\n",
        "            EPOCHS=25):\n",
        "    \n",
        "    epoch_list = []\n",
        "    loss_train_list = []\n",
        "    loss_test_list = []\n",
        "    acc_train_list = []\n",
        "    acc_test_list = []\n",
        "\n",
        "    for epoch in tqdm(range(EPOCHS)):\n",
        "        print(f\"\\nEPOCH {epoch}\")\n",
        "        print(\"-\"*30)\n",
        "\n",
        "        # Training\n",
        "        model.train()\n",
        "        loss_train = 0\n",
        "        acc_train = 0\n",
        "        for batch,(X_train,y_train) in enumerate(train_dataloader):\n",
        "            y_pred = model(X_train)\n",
        "            loss = loss_fn(y_pred,y_train)\n",
        "            loss_train += loss\n",
        "\n",
        "            y_pred_label = y_pred.argmax(dim=1)\n",
        "            acc_train += accuracy_fn(y_pred_label,y_train)\n",
        "\n",
        "            opt.zero_grad()\n",
        "            loss.backward()\n",
        "            opt.step()\n",
        "\n",
        "            if batch*BATCH_SIZE % 6000 == 0:\n",
        "                print(f\"Processing {batch*BATCH_SIZE}/{len(train_dataloader.dataset)}\")\n",
        "            \n",
        "        loss_train /= len(train_dataloader)\n",
        "        acc_train /= len(train_dataloader)\n",
        "        \n",
        "        # Evaluting\n",
        "        model.eval()\n",
        "        loss_test = 0\n",
        "        acc_test = 0\n",
        "        with torch.inference_mode():\n",
        "            for batch,(X_test,y_test) in enumerate(test_dataloader):\n",
        "                y_pred = model(X_test)\n",
        "                loss_test += loss_fn(y_pred,y_test)\n",
        "\n",
        "                y_pred_label = y_pred.argmax(dim=1)\n",
        "                acc_test += accuracy_fn(y_pred_label,y_test)\n",
        "\n",
        "            loss_test /= len(test_dataloader)\n",
        "            acc_test /= len(test_dataloader)\n",
        "        \n",
        "        print(f\"## Loss train: {loss_train}, Acc train: {acc_train}, Loss test: {loss_test}, Acc test: {acc_test}\")\n",
        "        epoch_list.append(epoch)\n",
        "        loss_train_list.append(loss_train.detach().numpy())\n",
        "        loss_test_list.append(loss_test.detach().numpy())\n",
        "        acc_train_list.append(acc_train)\n",
        "        acc_test_list.append(acc_test)\n",
        "\n",
        "    return model,(epoch_list,loss_train_list,loss_test_list,acc_train_list,acc_test_list)"
      ]
    },
    {
      "cell_type": "markdown",
      "metadata": {
        "id": "3p-vA6lS19v6"
      },
      "source": [
        "Initialize training "
      ]
    },
    {
      "cell_type": "code",
      "execution_count": 16,
      "metadata": {
        "colab": {
          "base_uri": "https://localhost:8080/",
          "height": 1000,
          "referenced_widgets": [
            "7210830c818f417ba833d4fe2d134e29",
            "2a220b96a2c04696a1523a2d2d9b5aaa",
            "9e44423b8e19428bab08c4e4936bc6f3",
            "36d39cac6e8347e7bec409758ab36577",
            "22b42cfeedce4570975b5b99b6428646",
            "bd520bfde0264410982e76624096f0aa",
            "6bbae98cadbd4aee8e2810baaabeb87e",
            "c50a91a55f4b4e2aa783a7c4340f713b",
            "502bfd1538f445eb9edcda56d0370911",
            "9cdb72521cfc4516a7a36c01d87ccac8",
            "931f649f632543d3b9935bd93a4ed52a"
          ]
        },
        "id": "uJzEojog0WkL",
        "outputId": "037cb884-8d83-4a54-ab82-80703aaf6839"
      },
      "outputs": [
        {
          "data": {
            "application/vnd.jupyter.widget-view+json": {
              "model_id": "1ed243b5df414c4b8e42d5cffe190318",
              "version_major": 2,
              "version_minor": 0
            },
            "text/plain": [
              "  0%|          | 0/25 [00:00<?, ?it/s]"
            ]
          },
          "metadata": {},
          "output_type": "display_data"
        },
        {
          "name": "stdout",
          "output_type": "stream",
          "text": [
            "\n",
            "EPOCH 0\n",
            "------------------------------\n",
            "Processing 0/60000\n",
            "Processing 12000/60000\n",
            "Processing 24000/60000\n",
            "Processing 36000/60000\n",
            "Processing 48000/60000\n",
            "## Loss train: 0.6321842074394226, Acc train: 0.7761833071708679, Loss test: 0.5316869616508484, Acc test: 0.8086062073707581\n",
            "\n",
            "EPOCH 1\n",
            "------------------------------\n",
            "Processing 0/60000\n",
            "Processing 12000/60000\n",
            "Processing 24000/60000\n",
            "Processing 36000/60000\n",
            "Processing 48000/60000\n",
            "## Loss train: 0.4799116253852844, Acc train: 0.8302666544914246, Loss test: 0.4909592866897583, Acc test: 0.8211861252784729\n",
            "\n",
            "EPOCH 2\n",
            "------------------------------\n",
            "Processing 0/60000\n",
            "Processing 12000/60000\n",
            "Processing 24000/60000\n",
            "Processing 36000/60000\n",
            "Processing 48000/60000\n",
            "## Loss train: 0.4551536440849304, Acc train: 0.8406166434288025, Loss test: 0.4820638597011566, Acc test: 0.833765983581543\n",
            "\n",
            "EPOCH 3\n",
            "------------------------------\n",
            "Processing 0/60000\n",
            "Processing 12000/60000\n",
            "Processing 24000/60000\n",
            "Processing 36000/60000\n",
            "Processing 48000/60000\n",
            "## Loss train: 0.44213226437568665, Acc train: 0.8449333310127258, Loss test: 0.5049082040786743, Acc test: 0.8285742998123169\n",
            "\n",
            "EPOCH 4\n",
            "------------------------------\n",
            "Processing 0/60000\n",
            "Processing 12000/60000\n",
            "Processing 24000/60000\n",
            "Processing 36000/60000\n",
            "Processing 48000/60000\n",
            "## Loss train: 0.43281689286231995, Acc train: 0.8483666777610779, Loss test: 0.46482551097869873, Acc test: 0.8365615010261536\n",
            "\n",
            "EPOCH 5\n",
            "------------------------------\n",
            "Processing 0/60000\n",
            "Processing 12000/60000\n",
            "Processing 24000/60000\n",
            "Processing 36000/60000\n",
            "Processing 48000/60000\n",
            "## Loss train: 0.42676472663879395, Acc train: 0.8505499958992004, Loss test: 0.4835945665836334, Acc test: 0.8274760246276855\n",
            "\n",
            "EPOCH 6\n",
            "------------------------------\n",
            "Processing 0/60000\n"
          ]
        },
        {
          "ename": "KeyboardInterrupt",
          "evalue": "",
          "output_type": "error",
          "traceback": [
            "\u001b[1;31m---------------------------------------------------------------------------\u001b[0m",
            "\u001b[1;31mKeyboardInterrupt\u001b[0m                         Traceback (most recent call last)",
            "File \u001b[1;32m<timed exec>:1\u001b[0m\n",
            "\u001b[1;32md:\\AI_PyTorch_Learning\\Pytorch_CV_FashionMNIST_Linearn.ipynb Cell 28\u001b[0m in \u001b[0;36m2\n\u001b[0;32m     <a href='vscode-notebook-cell:/d%3A/AI_PyTorch_Learning/Pytorch_CV_FashionMNIST_Linearn.ipynb#X36sZmlsZQ%3D%3D?line=19'>20</a>\u001b[0m loss_train \u001b[39m=\u001b[39m \u001b[39m0\u001b[39m\n\u001b[0;32m     <a href='vscode-notebook-cell:/d%3A/AI_PyTorch_Learning/Pytorch_CV_FashionMNIST_Linearn.ipynb#X36sZmlsZQ%3D%3D?line=20'>21</a>\u001b[0m acc_train \u001b[39m=\u001b[39m \u001b[39m0\u001b[39m\n\u001b[1;32m---> <a href='vscode-notebook-cell:/d%3A/AI_PyTorch_Learning/Pytorch_CV_FashionMNIST_Linearn.ipynb#X36sZmlsZQ%3D%3D?line=21'>22</a>\u001b[0m \u001b[39mfor\u001b[39;00m batch,(X_train,y_train) \u001b[39min\u001b[39;00m \u001b[39menumerate\u001b[39m(train_dataloader):\n\u001b[0;32m     <a href='vscode-notebook-cell:/d%3A/AI_PyTorch_Learning/Pytorch_CV_FashionMNIST_Linearn.ipynb#X36sZmlsZQ%3D%3D?line=22'>23</a>\u001b[0m     y_pred \u001b[39m=\u001b[39m model(X_train)\n\u001b[0;32m     <a href='vscode-notebook-cell:/d%3A/AI_PyTorch_Learning/Pytorch_CV_FashionMNIST_Linearn.ipynb#X36sZmlsZQ%3D%3D?line=23'>24</a>\u001b[0m     loss \u001b[39m=\u001b[39m loss_fn(y_pred,y_train)\n",
            "File \u001b[1;32mc:\\Users\\Admin\\AppData\\Local\\Programs\\Python\\Python310\\lib\\site-packages\\torch\\utils\\data\\dataloader.py:628\u001b[0m, in \u001b[0;36m_BaseDataLoaderIter.__next__\u001b[1;34m(self)\u001b[0m\n\u001b[0;32m    625\u001b[0m \u001b[39mif\u001b[39;00m \u001b[39mself\u001b[39m\u001b[39m.\u001b[39m_sampler_iter \u001b[39mis\u001b[39;00m \u001b[39mNone\u001b[39;00m:\n\u001b[0;32m    626\u001b[0m     \u001b[39m# TODO(https://github.com/pytorch/pytorch/issues/76750)\u001b[39;00m\n\u001b[0;32m    627\u001b[0m     \u001b[39mself\u001b[39m\u001b[39m.\u001b[39m_reset()  \u001b[39m# type: ignore[call-arg]\u001b[39;00m\n\u001b[1;32m--> 628\u001b[0m data \u001b[39m=\u001b[39m \u001b[39mself\u001b[39;49m\u001b[39m.\u001b[39;49m_next_data()\n\u001b[0;32m    629\u001b[0m \u001b[39mself\u001b[39m\u001b[39m.\u001b[39m_num_yielded \u001b[39m+\u001b[39m\u001b[39m=\u001b[39m \u001b[39m1\u001b[39m\n\u001b[0;32m    630\u001b[0m \u001b[39mif\u001b[39;00m \u001b[39mself\u001b[39m\u001b[39m.\u001b[39m_dataset_kind \u001b[39m==\u001b[39m _DatasetKind\u001b[39m.\u001b[39mIterable \u001b[39mand\u001b[39;00m \\\n\u001b[0;32m    631\u001b[0m         \u001b[39mself\u001b[39m\u001b[39m.\u001b[39m_IterableDataset_len_called \u001b[39mis\u001b[39;00m \u001b[39mnot\u001b[39;00m \u001b[39mNone\u001b[39;00m \u001b[39mand\u001b[39;00m \\\n\u001b[0;32m    632\u001b[0m         \u001b[39mself\u001b[39m\u001b[39m.\u001b[39m_num_yielded \u001b[39m>\u001b[39m \u001b[39mself\u001b[39m\u001b[39m.\u001b[39m_IterableDataset_len_called:\n",
            "File \u001b[1;32mc:\\Users\\Admin\\AppData\\Local\\Programs\\Python\\Python310\\lib\\site-packages\\torch\\utils\\data\\dataloader.py:671\u001b[0m, in \u001b[0;36m_SingleProcessDataLoaderIter._next_data\u001b[1;34m(self)\u001b[0m\n\u001b[0;32m    669\u001b[0m \u001b[39mdef\u001b[39;00m \u001b[39m_next_data\u001b[39m(\u001b[39mself\u001b[39m):\n\u001b[0;32m    670\u001b[0m     index \u001b[39m=\u001b[39m \u001b[39mself\u001b[39m\u001b[39m.\u001b[39m_next_index()  \u001b[39m# may raise StopIteration\u001b[39;00m\n\u001b[1;32m--> 671\u001b[0m     data \u001b[39m=\u001b[39m \u001b[39mself\u001b[39;49m\u001b[39m.\u001b[39;49m_dataset_fetcher\u001b[39m.\u001b[39;49mfetch(index)  \u001b[39m# may raise StopIteration\u001b[39;00m\n\u001b[0;32m    672\u001b[0m     \u001b[39mif\u001b[39;00m \u001b[39mself\u001b[39m\u001b[39m.\u001b[39m_pin_memory:\n\u001b[0;32m    673\u001b[0m         data \u001b[39m=\u001b[39m _utils\u001b[39m.\u001b[39mpin_memory\u001b[39m.\u001b[39mpin_memory(data, \u001b[39mself\u001b[39m\u001b[39m.\u001b[39m_pin_memory_device)\n",
            "File \u001b[1;32mc:\\Users\\Admin\\AppData\\Local\\Programs\\Python\\Python310\\lib\\site-packages\\torch\\utils\\data\\_utils\\fetch.py:58\u001b[0m, in \u001b[0;36m_MapDatasetFetcher.fetch\u001b[1;34m(self, possibly_batched_index)\u001b[0m\n\u001b[0;32m     56\u001b[0m         data \u001b[39m=\u001b[39m \u001b[39mself\u001b[39m\u001b[39m.\u001b[39mdataset\u001b[39m.\u001b[39m__getitems__(possibly_batched_index)\n\u001b[0;32m     57\u001b[0m     \u001b[39melse\u001b[39;00m:\n\u001b[1;32m---> 58\u001b[0m         data \u001b[39m=\u001b[39m [\u001b[39mself\u001b[39m\u001b[39m.\u001b[39mdataset[idx] \u001b[39mfor\u001b[39;00m idx \u001b[39min\u001b[39;00m possibly_batched_index]\n\u001b[0;32m     59\u001b[0m \u001b[39melse\u001b[39;00m:\n\u001b[0;32m     60\u001b[0m     data \u001b[39m=\u001b[39m \u001b[39mself\u001b[39m\u001b[39m.\u001b[39mdataset[possibly_batched_index]\n",
            "File \u001b[1;32mc:\\Users\\Admin\\AppData\\Local\\Programs\\Python\\Python310\\lib\\site-packages\\torch\\utils\\data\\_utils\\fetch.py:58\u001b[0m, in \u001b[0;36m<listcomp>\u001b[1;34m(.0)\u001b[0m\n\u001b[0;32m     56\u001b[0m         data \u001b[39m=\u001b[39m \u001b[39mself\u001b[39m\u001b[39m.\u001b[39mdataset\u001b[39m.\u001b[39m__getitems__(possibly_batched_index)\n\u001b[0;32m     57\u001b[0m     \u001b[39melse\u001b[39;00m:\n\u001b[1;32m---> 58\u001b[0m         data \u001b[39m=\u001b[39m [\u001b[39mself\u001b[39;49m\u001b[39m.\u001b[39;49mdataset[idx] \u001b[39mfor\u001b[39;00m idx \u001b[39min\u001b[39;00m possibly_batched_index]\n\u001b[0;32m     59\u001b[0m \u001b[39melse\u001b[39;00m:\n\u001b[0;32m     60\u001b[0m     data \u001b[39m=\u001b[39m \u001b[39mself\u001b[39m\u001b[39m.\u001b[39mdataset[possibly_batched_index]\n",
            "File \u001b[1;32mc:\\Users\\Admin\\AppData\\Local\\Programs\\Python\\Python310\\lib\\site-packages\\torchvision\\datasets\\mnist.py:145\u001b[0m, in \u001b[0;36mMNIST.__getitem__\u001b[1;34m(self, index)\u001b[0m\n\u001b[0;32m    142\u001b[0m img \u001b[39m=\u001b[39m Image\u001b[39m.\u001b[39mfromarray(img\u001b[39m.\u001b[39mnumpy(), mode\u001b[39m=\u001b[39m\u001b[39m\"\u001b[39m\u001b[39mL\u001b[39m\u001b[39m\"\u001b[39m)\n\u001b[0;32m    144\u001b[0m \u001b[39mif\u001b[39;00m \u001b[39mself\u001b[39m\u001b[39m.\u001b[39mtransform \u001b[39mis\u001b[39;00m \u001b[39mnot\u001b[39;00m \u001b[39mNone\u001b[39;00m:\n\u001b[1;32m--> 145\u001b[0m     img \u001b[39m=\u001b[39m \u001b[39mself\u001b[39;49m\u001b[39m.\u001b[39;49mtransform(img)\n\u001b[0;32m    147\u001b[0m \u001b[39mif\u001b[39;00m \u001b[39mself\u001b[39m\u001b[39m.\u001b[39mtarget_transform \u001b[39mis\u001b[39;00m \u001b[39mnot\u001b[39;00m \u001b[39mNone\u001b[39;00m:\n\u001b[0;32m    148\u001b[0m     target \u001b[39m=\u001b[39m \u001b[39mself\u001b[39m\u001b[39m.\u001b[39mtarget_transform(target)\n",
            "File \u001b[1;32mc:\\Users\\Admin\\AppData\\Local\\Programs\\Python\\Python310\\lib\\site-packages\\torchvision\\transforms\\transforms.py:135\u001b[0m, in \u001b[0;36mToTensor.__call__\u001b[1;34m(self, pic)\u001b[0m\n\u001b[0;32m    127\u001b[0m \u001b[39mdef\u001b[39;00m \u001b[39m__call__\u001b[39m(\u001b[39mself\u001b[39m, pic):\n\u001b[0;32m    128\u001b[0m     \u001b[39m\"\"\"\u001b[39;00m\n\u001b[0;32m    129\u001b[0m \u001b[39m    Args:\u001b[39;00m\n\u001b[0;32m    130\u001b[0m \u001b[39m        pic (PIL Image or numpy.ndarray): Image to be converted to tensor.\u001b[39;00m\n\u001b[1;32m   (...)\u001b[0m\n\u001b[0;32m    133\u001b[0m \u001b[39m        Tensor: Converted image.\u001b[39;00m\n\u001b[0;32m    134\u001b[0m \u001b[39m    \"\"\"\u001b[39;00m\n\u001b[1;32m--> 135\u001b[0m     \u001b[39mreturn\u001b[39;00m F\u001b[39m.\u001b[39;49mto_tensor(pic)\n",
            "\u001b[1;31mKeyboardInterrupt\u001b[0m: "
          ]
        }
      ],
      "source": [
        "%%time\n",
        "model_not_relu,eval_value_not_relu = training(model=model_not_relu,\n",
        "                                            loss_fn=loss_fn,\n",
        "                                            opt=opt_not_relu,\n",
        "                                            accuracy_fn=accuracy_fn)"
      ]
    },
    {
      "cell_type": "code",
      "execution_count": 37,
      "metadata": {
        "colab": {
          "base_uri": "https://localhost:8080/",
          "height": 1000,
          "referenced_widgets": [
            "8d2cf269cc7f4938a4a4afc9514ceec3",
            "e218375a118b4ddb97e9096d16377eab",
            "a1f08010f6294048b87ae656706a15af",
            "1848b03e54bf48aab152a1e464773f45",
            "d716eb56c3894102bb2611e233df9c62",
            "5ab8e52db41545c081e6f73f252c77d8",
            "58fcbd8f8682419a8098f48b33640379",
            "b8fae6ae84f147b191721480e63ce7c0",
            "7b5b361f7ff0478abce8bd763e645ad5",
            "28b09b4ed5ac40e19db9eeef38b3be28",
            "8fba660669034dc4b6cfb9819c9ec9d6"
          ]
        },
        "id": "8Df0MnNL3Gua",
        "outputId": "ac2c9a99-4a98-46fb-b1bd-3fc32ebe6962"
      },
      "outputs": [
        {
          "data": {
            "application/vnd.jupyter.widget-view+json": {
              "model_id": "8d2cf269cc7f4938a4a4afc9514ceec3",
              "version_major": 2,
              "version_minor": 0
            },
            "text/plain": [
              "  0%|          | 0/25 [00:00<?, ?it/s]"
            ]
          },
          "metadata": {},
          "output_type": "display_data"
        },
        {
          "name": "stdout",
          "output_type": "stream",
          "text": [
            "\n",
            "EPOCH 0\n",
            "------------------------------\n",
            "Processing 0/60000\n",
            "Processing 12000/60000\n",
            "Processing 24000/60000\n",
            "Processing 36000/60000\n",
            "Processing 48000/60000\n",
            "## Loss train: 0.6354552507400513, Acc train: 0.7745000123977661, Loss test: 0.5829164385795593, Acc test: 0.7899361252784729\n",
            "\n",
            "EPOCH 1\n",
            "------------------------------\n",
            "Processing 0/60000\n",
            "Processing 12000/60000\n",
            "Processing 24000/60000\n",
            "Processing 36000/60000\n",
            "Processing 48000/60000\n",
            "## Loss train: 0.4801937937736511, Acc train: 0.8294333219528198, Loss test: 0.5012294054031372, Acc test: 0.8225838541984558\n",
            "\n",
            "EPOCH 2\n",
            "------------------------------\n",
            "Processing 0/60000\n",
            "Processing 12000/60000\n",
            "Processing 24000/60000\n",
            "Processing 36000/60000\n",
            "Processing 48000/60000\n",
            "## Loss train: 0.4556640088558197, Acc train: 0.840499997138977, Loss test: 0.4756011962890625, Acc test: 0.8271765112876892\n",
            "\n",
            "EPOCH 3\n",
            "------------------------------\n",
            "Processing 0/60000\n",
            "Processing 12000/60000\n",
            "Processing 24000/60000\n",
            "Processing 36000/60000\n",
            "Processing 48000/60000\n",
            "## Loss train: 0.4428284466266632, Acc train: 0.8446499705314636, Loss test: 0.4709169566631317, Acc test: 0.8347643613815308\n",
            "\n",
            "EPOCH 4\n",
            "------------------------------\n",
            "Processing 0/60000\n",
            "Processing 12000/60000\n",
            "Processing 24000/60000\n",
            "Processing 36000/60000\n",
            "Processing 48000/60000\n",
            "## Loss train: 0.4325057566165924, Acc train: 0.8479333519935608, Loss test: 0.46311452984809875, Acc test: 0.8376597166061401\n",
            "\n",
            "EPOCH 5\n",
            "------------------------------\n",
            "Processing 0/60000\n",
            "Processing 12000/60000\n",
            "Processing 24000/60000\n",
            "Processing 36000/60000\n",
            "Processing 48000/60000\n",
            "## Loss train: 0.42513802647590637, Acc train: 0.8505499958992004, Loss test: 0.49944716691970825, Acc test: 0.8288738131523132\n",
            "\n",
            "EPOCH 6\n",
            "------------------------------\n",
            "Processing 0/60000\n",
            "Processing 12000/60000\n",
            "Processing 24000/60000\n",
            "Processing 36000/60000\n",
            "Processing 48000/60000\n",
            "## Loss train: 0.4211997389793396, Acc train: 0.8524166941642761, Loss test: 0.4714675843715668, Acc test: 0.8333666324615479\n",
            "\n",
            "EPOCH 7\n",
            "------------------------------\n",
            "Processing 0/60000\n",
            "Processing 12000/60000\n",
            "Processing 24000/60000\n",
            "Processing 36000/60000\n",
            "Processing 48000/60000\n",
            "## Loss train: 0.417107492685318, Acc train: 0.8552666902542114, Loss test: 0.46706968545913696, Acc test: 0.8342651724815369\n",
            "\n",
            "EPOCH 8\n",
            "------------------------------\n",
            "Processing 0/60000\n",
            "Processing 12000/60000\n",
            "Processing 24000/60000\n",
            "Processing 36000/60000\n",
            "Processing 48000/60000\n",
            "## Loss train: 0.4135994017124176, Acc train: 0.8549500107765198, Loss test: 0.4608069360256195, Acc test: 0.835463285446167\n",
            "\n",
            "EPOCH 9\n",
            "------------------------------\n",
            "Processing 0/60000\n",
            "Processing 12000/60000\n",
            "Processing 24000/60000\n",
            "Processing 36000/60000\n",
            "Processing 48000/60000\n",
            "## Loss train: 0.41217222809791565, Acc train: 0.8550166487693787, Loss test: 0.45813649892807007, Acc test: 0.8396565318107605\n",
            "\n",
            "EPOCH 10\n",
            "------------------------------\n",
            "Processing 0/60000\n",
            "Processing 12000/60000\n",
            "Processing 24000/60000\n",
            "Processing 36000/60000\n",
            "Processing 48000/60000\n",
            "## Loss train: 0.4084491431713104, Acc train: 0.8569833040237427, Loss test: 0.46921223402023315, Acc test: 0.8388578295707703\n",
            "\n",
            "EPOCH 11\n",
            "------------------------------\n",
            "Processing 0/60000\n",
            "Processing 12000/60000\n",
            "Processing 24000/60000\n",
            "Processing 36000/60000\n",
            "Processing 48000/60000\n",
            "## Loss train: 0.40826886892318726, Acc train: 0.8568666577339172, Loss test: 0.46277254819869995, Acc test: 0.8404552936553955\n",
            "\n",
            "EPOCH 12\n",
            "------------------------------\n",
            "Processing 0/60000\n",
            "Processing 12000/60000\n",
            "Processing 24000/60000\n",
            "Processing 36000/60000\n",
            "Processing 48000/60000\n",
            "## Loss train: 0.4058622419834137, Acc train: 0.8566833138465881, Loss test: 0.45506900548934937, Acc test: 0.83805912733078\n",
            "\n",
            "EPOCH 13\n",
            "------------------------------\n",
            "Processing 0/60000\n",
            "Processing 12000/60000\n",
            "Processing 24000/60000\n",
            "Processing 36000/60000\n",
            "Processing 48000/60000\n",
            "## Loss train: 0.4042244255542755, Acc train: 0.8580999970436096, Loss test: 0.44967344403266907, Acc test: 0.842851459980011\n",
            "\n",
            "EPOCH 14\n",
            "------------------------------\n",
            "Processing 0/60000\n",
            "Processing 12000/60000\n",
            "Processing 24000/60000\n",
            "Processing 36000/60000\n",
            "Processing 48000/60000\n",
            "## Loss train: 0.4010097086429596, Acc train: 0.8587666749954224, Loss test: 0.4606093764305115, Acc test: 0.8373602032661438\n",
            "\n",
            "EPOCH 15\n",
            "------------------------------\n",
            "Processing 0/60000\n",
            "Processing 12000/60000\n",
            "Processing 24000/60000\n",
            "Processing 36000/60000\n",
            "Processing 48000/60000\n",
            "## Loss train: 0.40068408846855164, Acc train: 0.8598333597183228, Loss test: 0.45270785689353943, Acc test: 0.8415535092353821\n",
            "\n",
            "EPOCH 16\n",
            "------------------------------\n",
            "Processing 0/60000\n",
            "Processing 12000/60000\n",
            "Processing 24000/60000\n",
            "Processing 36000/60000\n",
            "Processing 48000/60000\n",
            "## Loss train: 0.39818885922431946, Acc train: 0.8586666584014893, Loss test: 0.46181413531303406, Acc test: 0.8387579917907715\n",
            "\n",
            "EPOCH 17\n",
            "------------------------------\n",
            "Processing 0/60000\n",
            "Processing 12000/60000\n",
            "Processing 24000/60000\n",
            "Processing 36000/60000\n",
            "Processing 48000/60000\n",
            "## Loss train: 0.39972203969955444, Acc train: 0.858299970626831, Loss test: 0.4676792025566101, Acc test: 0.8397563695907593\n",
            "\n",
            "EPOCH 18\n",
            "------------------------------\n",
            "Processing 0/60000\n",
            "Processing 12000/60000\n",
            "Processing 24000/60000\n",
            "Processing 36000/60000\n",
            "Processing 48000/60000\n",
            "## Loss train: 0.3957122266292572, Acc train: 0.8612333536148071, Loss test: 0.4521990418434143, Acc test: 0.8391573429107666\n",
            "\n",
            "EPOCH 19\n",
            "------------------------------\n",
            "Processing 0/60000\n",
            "Processing 12000/60000\n",
            "Processing 24000/60000\n",
            "Processing 36000/60000\n",
            "Processing 48000/60000\n",
            "## Loss train: 0.39610767364501953, Acc train: 0.8599833250045776, Loss test: 0.4529617428779602, Acc test: 0.8401557803153992\n",
            "\n",
            "EPOCH 20\n",
            "------------------------------\n",
            "Processing 0/60000\n",
            "Processing 12000/60000\n",
            "Processing 24000/60000\n",
            "Processing 36000/60000\n",
            "Processing 48000/60000\n",
            "## Loss train: 0.39537352323532104, Acc train: 0.8606166839599609, Loss test: 0.45455580949783325, Acc test: 0.8392571806907654\n",
            "\n",
            "EPOCH 21\n",
            "------------------------------\n",
            "Processing 0/60000\n",
            "Processing 12000/60000\n",
            "Processing 24000/60000\n",
            "Processing 36000/60000\n",
            "Processing 48000/60000\n",
            "## Loss train: 0.3942136764526367, Acc train: 0.8626499772071838, Loss test: 0.44682204723358154, Acc test: 0.8427516222000122\n",
            "\n",
            "EPOCH 22\n",
            "------------------------------\n",
            "Processing 0/60000\n",
            "Processing 12000/60000\n",
            "Processing 24000/60000\n",
            "Processing 36000/60000\n",
            "Processing 48000/60000\n",
            "## Loss train: 0.39427217841148376, Acc train: 0.8608166575431824, Loss test: 0.4488760232925415, Acc test: 0.8407548069953918\n",
            "\n",
            "EPOCH 23\n",
            "------------------------------\n",
            "Processing 0/60000\n",
            "Processing 12000/60000\n",
            "Processing 24000/60000\n",
            "Processing 36000/60000\n",
            "Processing 48000/60000\n",
            "## Loss train: 0.39186158776283264, Acc train: 0.8631500005722046, Loss test: 0.4625004231929779, Acc test: 0.8310703039169312\n",
            "\n",
            "EPOCH 24\n",
            "------------------------------\n",
            "Processing 0/60000\n",
            "Processing 12000/60000\n",
            "Processing 24000/60000\n",
            "Processing 36000/60000\n",
            "Processing 48000/60000\n",
            "## Loss train: 0.39025774598121643, Acc train: 0.8621833324432373, Loss test: 0.460781455039978, Acc test: 0.8407548069953918\n"
          ]
        }
      ],
      "source": [
        "%%time\n",
        "model_relu,eval_value_relu = training(model=model_relu,\n",
        "                                    loss_fn=loss_fn,\n",
        "                                    opt=opt_relu,\n",
        "                                    accuracy_fn=accuracy_fn)"
      ]
    },
    {
      "cell_type": "markdown",
      "metadata": {
        "id": "hwCMSlPk2TOx"
      },
      "source": [
        "7. Creating Visualize func"
      ]
    },
    {
      "cell_type": "code",
      "execution_count": 38,
      "metadata": {
        "id": "vqfoyIFX1QPs"
      },
      "outputs": [],
      "source": [
        "def visualize_loss_acc(eval_value):\n",
        "    epoch_list,loss_train_list,loss_test_list,acc_train_list,acc_test_list = eval_value\n",
        "    plt.figure(figsize=(18,8))\n",
        "    plt.suptitle(\"Visualize Loss and Accuracy\", fontsize=18)\n",
        "\n",
        "    plt.subplot(1,2,1)\n",
        "    plt.plot(epoch_list,loss_train_list,label=\"Training Loss\")\n",
        "    plt.plot(epoch_list,loss_test_list,label=\"Testing Loss\")\n",
        "    plt.title(\"Loss\")\n",
        "    plt.xlabel(\"Epoch\")\n",
        "    plt.ylabel(\"Loss\")\n",
        "    plt.legend()\n",
        "\n",
        "    plt.subplot(1,2,2)\n",
        "    plt.plot(epoch_list,acc_train_list,label=\"Training Accuracy\")\n",
        "    plt.plot(epoch_list,acc_test_list,label=\"Testing Accuracy\")\n",
        "    plt.title(\"Accuracy\")\n",
        "    plt.xlabel(\"Epoch\")\n",
        "    plt.ylabel(\"Accuracy\")\n",
        "    plt.legend()\n",
        "\n",
        "    plt.show()"
      ]
    },
    {
      "cell_type": "markdown",
      "metadata": {
        "id": "Gsl7Fa4o3Ypf"
      },
      "source": [
        "Initialize visualize"
      ]
    },
    {
      "cell_type": "code",
      "execution_count": 39,
      "metadata": {
        "colab": {
          "base_uri": "https://localhost:8080/",
          "height": 1000
        },
        "id": "HnGuMTqWw7I5",
        "outputId": "fcee939d-bddc-4389-8cf8-cc078ef4fa85"
      },
      "outputs": [
        {
          "ename": "RuntimeError",
          "evalue": "ignored",
          "output_type": "error",
          "traceback": [
            "\u001b[0;31m---------------------------------------------------------------------------\u001b[0m",
            "\u001b[0;31mRuntimeError\u001b[0m                              Traceback (most recent call last)",
            "\u001b[0;32m<ipython-input-39-cce38d764fbf>\u001b[0m in \u001b[0;36m<cell line: 1>\u001b[0;34m()\u001b[0m\n\u001b[0;32m----> 1\u001b[0;31m \u001b[0mvisualize_loss_acc\u001b[0m\u001b[0;34m(\u001b[0m\u001b[0meval_value\u001b[0m\u001b[0;34m)\u001b[0m\u001b[0;34m\u001b[0m\u001b[0;34m\u001b[0m\u001b[0m\n\u001b[0m",
            "\u001b[0;32m<ipython-input-38-cbe17748c77a>\u001b[0m in \u001b[0;36mvisualize_loss_acc\u001b[0;34m(eval_value)\u001b[0m\n\u001b[1;32m      5\u001b[0m \u001b[0;34m\u001b[0m\u001b[0m\n\u001b[1;32m      6\u001b[0m     \u001b[0mplt\u001b[0m\u001b[0;34m.\u001b[0m\u001b[0msubplot\u001b[0m\u001b[0;34m(\u001b[0m\u001b[0;36m1\u001b[0m\u001b[0;34m,\u001b[0m\u001b[0;36m2\u001b[0m\u001b[0;34m,\u001b[0m\u001b[0;36m1\u001b[0m\u001b[0;34m)\u001b[0m\u001b[0;34m\u001b[0m\u001b[0;34m\u001b[0m\u001b[0m\n\u001b[0;32m----> 7\u001b[0;31m     \u001b[0mplt\u001b[0m\u001b[0;34m.\u001b[0m\u001b[0mplot\u001b[0m\u001b[0;34m(\u001b[0m\u001b[0mepoch_list\u001b[0m\u001b[0;34m,\u001b[0m\u001b[0mloss_train_list\u001b[0m\u001b[0;34m,\u001b[0m\u001b[0mlabel\u001b[0m\u001b[0;34m=\u001b[0m\u001b[0;34m\"Training Loss\"\u001b[0m\u001b[0;34m)\u001b[0m\u001b[0;34m\u001b[0m\u001b[0;34m\u001b[0m\u001b[0m\n\u001b[0m\u001b[1;32m      8\u001b[0m     \u001b[0mplt\u001b[0m\u001b[0;34m.\u001b[0m\u001b[0mplot\u001b[0m\u001b[0;34m(\u001b[0m\u001b[0mepoch_list\u001b[0m\u001b[0;34m,\u001b[0m\u001b[0mloss_test_list\u001b[0m\u001b[0;34m,\u001b[0m\u001b[0mlabel\u001b[0m\u001b[0;34m=\u001b[0m\u001b[0;34m\"Testing Loss\"\u001b[0m\u001b[0;34m)\u001b[0m\u001b[0;34m\u001b[0m\u001b[0;34m\u001b[0m\u001b[0m\n\u001b[1;32m      9\u001b[0m     \u001b[0mplt\u001b[0m\u001b[0;34m.\u001b[0m\u001b[0mtitle\u001b[0m\u001b[0;34m(\u001b[0m\u001b[0;34m\"Loss\"\u001b[0m\u001b[0;34m)\u001b[0m\u001b[0;34m\u001b[0m\u001b[0;34m\u001b[0m\u001b[0m\n",
            "\u001b[0;32m/usr/local/lib/python3.9/dist-packages/matplotlib/pyplot.py\u001b[0m in \u001b[0;36mplot\u001b[0;34m(scalex, scaley, data, *args, **kwargs)\u001b[0m\n\u001b[1;32m   2810\u001b[0m \u001b[0;34m@\u001b[0m\u001b[0m_copy_docstring_and_deprecators\u001b[0m\u001b[0;34m(\u001b[0m\u001b[0mAxes\u001b[0m\u001b[0;34m.\u001b[0m\u001b[0mplot\u001b[0m\u001b[0;34m)\u001b[0m\u001b[0;34m\u001b[0m\u001b[0;34m\u001b[0m\u001b[0m\n\u001b[1;32m   2811\u001b[0m \u001b[0;32mdef\u001b[0m \u001b[0mplot\u001b[0m\u001b[0;34m(\u001b[0m\u001b[0;34m*\u001b[0m\u001b[0margs\u001b[0m\u001b[0;34m,\u001b[0m \u001b[0mscalex\u001b[0m\u001b[0;34m=\u001b[0m\u001b[0;32mTrue\u001b[0m\u001b[0;34m,\u001b[0m \u001b[0mscaley\u001b[0m\u001b[0;34m=\u001b[0m\u001b[0;32mTrue\u001b[0m\u001b[0;34m,\u001b[0m \u001b[0mdata\u001b[0m\u001b[0;34m=\u001b[0m\u001b[0;32mNone\u001b[0m\u001b[0;34m,\u001b[0m \u001b[0;34m**\u001b[0m\u001b[0mkwargs\u001b[0m\u001b[0;34m)\u001b[0m\u001b[0;34m:\u001b[0m\u001b[0;34m\u001b[0m\u001b[0;34m\u001b[0m\u001b[0m\n\u001b[0;32m-> 2812\u001b[0;31m     return gca().plot(\n\u001b[0m\u001b[1;32m   2813\u001b[0m         \u001b[0;34m*\u001b[0m\u001b[0margs\u001b[0m\u001b[0;34m,\u001b[0m \u001b[0mscalex\u001b[0m\u001b[0;34m=\u001b[0m\u001b[0mscalex\u001b[0m\u001b[0;34m,\u001b[0m \u001b[0mscaley\u001b[0m\u001b[0;34m=\u001b[0m\u001b[0mscaley\u001b[0m\u001b[0;34m,\u001b[0m\u001b[0;34m\u001b[0m\u001b[0;34m\u001b[0m\u001b[0m\n\u001b[1;32m   2814\u001b[0m         **({\"data\": data} if data is not None else {}), **kwargs)\n",
            "\u001b[0;32m/usr/local/lib/python3.9/dist-packages/matplotlib/axes/_axes.py\u001b[0m in \u001b[0;36mplot\u001b[0;34m(self, scalex, scaley, data, *args, **kwargs)\u001b[0m\n\u001b[1;32m   1686\u001b[0m         \"\"\"\n\u001b[1;32m   1687\u001b[0m         \u001b[0mkwargs\u001b[0m \u001b[0;34m=\u001b[0m \u001b[0mcbook\u001b[0m\u001b[0;34m.\u001b[0m\u001b[0mnormalize_kwargs\u001b[0m\u001b[0;34m(\u001b[0m\u001b[0mkwargs\u001b[0m\u001b[0;34m,\u001b[0m \u001b[0mmlines\u001b[0m\u001b[0;34m.\u001b[0m\u001b[0mLine2D\u001b[0m\u001b[0;34m)\u001b[0m\u001b[0;34m\u001b[0m\u001b[0;34m\u001b[0m\u001b[0m\n\u001b[0;32m-> 1688\u001b[0;31m         \u001b[0mlines\u001b[0m \u001b[0;34m=\u001b[0m \u001b[0;34m[\u001b[0m\u001b[0;34m*\u001b[0m\u001b[0mself\u001b[0m\u001b[0;34m.\u001b[0m\u001b[0m_get_lines\u001b[0m\u001b[0;34m(\u001b[0m\u001b[0;34m*\u001b[0m\u001b[0margs\u001b[0m\u001b[0;34m,\u001b[0m \u001b[0mdata\u001b[0m\u001b[0;34m=\u001b[0m\u001b[0mdata\u001b[0m\u001b[0;34m,\u001b[0m \u001b[0;34m**\u001b[0m\u001b[0mkwargs\u001b[0m\u001b[0;34m)\u001b[0m\u001b[0;34m]\u001b[0m\u001b[0;34m\u001b[0m\u001b[0;34m\u001b[0m\u001b[0m\n\u001b[0m\u001b[1;32m   1689\u001b[0m         \u001b[0;32mfor\u001b[0m \u001b[0mline\u001b[0m \u001b[0;32min\u001b[0m \u001b[0mlines\u001b[0m\u001b[0;34m:\u001b[0m\u001b[0;34m\u001b[0m\u001b[0;34m\u001b[0m\u001b[0m\n\u001b[1;32m   1690\u001b[0m             \u001b[0mself\u001b[0m\u001b[0;34m.\u001b[0m\u001b[0madd_line\u001b[0m\u001b[0;34m(\u001b[0m\u001b[0mline\u001b[0m\u001b[0;34m)\u001b[0m\u001b[0;34m\u001b[0m\u001b[0;34m\u001b[0m\u001b[0m\n",
            "\u001b[0;32m/usr/local/lib/python3.9/dist-packages/matplotlib/axes/_base.py\u001b[0m in \u001b[0;36m__call__\u001b[0;34m(self, data, *args, **kwargs)\u001b[0m\n\u001b[1;32m    309\u001b[0m                 \u001b[0mthis\u001b[0m \u001b[0;34m+=\u001b[0m \u001b[0margs\u001b[0m\u001b[0;34m[\u001b[0m\u001b[0;36m0\u001b[0m\u001b[0;34m]\u001b[0m\u001b[0;34m,\u001b[0m\u001b[0;34m\u001b[0m\u001b[0;34m\u001b[0m\u001b[0m\n\u001b[1;32m    310\u001b[0m                 \u001b[0margs\u001b[0m \u001b[0;34m=\u001b[0m \u001b[0margs\u001b[0m\u001b[0;34m[\u001b[0m\u001b[0;36m1\u001b[0m\u001b[0;34m:\u001b[0m\u001b[0;34m]\u001b[0m\u001b[0;34m\u001b[0m\u001b[0;34m\u001b[0m\u001b[0m\n\u001b[0;32m--> 311\u001b[0;31m             yield from self._plot_args(\n\u001b[0m\u001b[1;32m    312\u001b[0m                 this, kwargs, ambiguous_fmt_datakey=ambiguous_fmt_datakey)\n\u001b[1;32m    313\u001b[0m \u001b[0;34m\u001b[0m\u001b[0m\n",
            "\u001b[0;32m/usr/local/lib/python3.9/dist-packages/matplotlib/axes/_base.py\u001b[0m in \u001b[0;36m_plot_args\u001b[0;34m(self, tup, kwargs, return_kwargs, ambiguous_fmt_datakey)\u001b[0m\n\u001b[1;32m    492\u001b[0m         \u001b[0;32mif\u001b[0m \u001b[0mlen\u001b[0m\u001b[0;34m(\u001b[0m\u001b[0mxy\u001b[0m\u001b[0;34m)\u001b[0m \u001b[0;34m==\u001b[0m \u001b[0;36m2\u001b[0m\u001b[0;34m:\u001b[0m\u001b[0;34m\u001b[0m\u001b[0;34m\u001b[0m\u001b[0m\n\u001b[1;32m    493\u001b[0m             \u001b[0mx\u001b[0m \u001b[0;34m=\u001b[0m \u001b[0m_check_1d\u001b[0m\u001b[0;34m(\u001b[0m\u001b[0mxy\u001b[0m\u001b[0;34m[\u001b[0m\u001b[0;36m0\u001b[0m\u001b[0;34m]\u001b[0m\u001b[0;34m)\u001b[0m\u001b[0;34m\u001b[0m\u001b[0;34m\u001b[0m\u001b[0m\n\u001b[0;32m--> 494\u001b[0;31m             \u001b[0my\u001b[0m \u001b[0;34m=\u001b[0m \u001b[0m_check_1d\u001b[0m\u001b[0;34m(\u001b[0m\u001b[0mxy\u001b[0m\u001b[0;34m[\u001b[0m\u001b[0;36m1\u001b[0m\u001b[0;34m]\u001b[0m\u001b[0;34m)\u001b[0m\u001b[0;34m\u001b[0m\u001b[0;34m\u001b[0m\u001b[0m\n\u001b[0m\u001b[1;32m    495\u001b[0m         \u001b[0;32melse\u001b[0m\u001b[0;34m:\u001b[0m\u001b[0;34m\u001b[0m\u001b[0;34m\u001b[0m\u001b[0m\n\u001b[1;32m    496\u001b[0m             \u001b[0mx\u001b[0m\u001b[0;34m,\u001b[0m \u001b[0my\u001b[0m \u001b[0;34m=\u001b[0m \u001b[0mindex_of\u001b[0m\u001b[0;34m(\u001b[0m\u001b[0mxy\u001b[0m\u001b[0;34m[\u001b[0m\u001b[0;34m-\u001b[0m\u001b[0;36m1\u001b[0m\u001b[0;34m]\u001b[0m\u001b[0;34m)\u001b[0m\u001b[0;34m\u001b[0m\u001b[0;34m\u001b[0m\u001b[0m\n",
            "\u001b[0;32m/usr/local/lib/python3.9/dist-packages/matplotlib/cbook/__init__.py\u001b[0m in \u001b[0;36m_check_1d\u001b[0;34m(x)\u001b[0m\n\u001b[1;32m   1346\u001b[0m             \u001b[0;32mnot\u001b[0m \u001b[0mhasattr\u001b[0m\u001b[0;34m(\u001b[0m\u001b[0mx\u001b[0m\u001b[0;34m,\u001b[0m \u001b[0;34m'ndim'\u001b[0m\u001b[0;34m)\u001b[0m \u001b[0;32mor\u001b[0m\u001b[0;34m\u001b[0m\u001b[0;34m\u001b[0m\u001b[0m\n\u001b[1;32m   1347\u001b[0m             len(x.shape) < 1):\n\u001b[0;32m-> 1348\u001b[0;31m         \u001b[0;32mreturn\u001b[0m \u001b[0mnp\u001b[0m\u001b[0;34m.\u001b[0m\u001b[0matleast_1d\u001b[0m\u001b[0;34m(\u001b[0m\u001b[0mx\u001b[0m\u001b[0;34m)\u001b[0m\u001b[0;34m\u001b[0m\u001b[0;34m\u001b[0m\u001b[0m\n\u001b[0m\u001b[1;32m   1349\u001b[0m     \u001b[0;32melse\u001b[0m\u001b[0;34m:\u001b[0m\u001b[0;34m\u001b[0m\u001b[0;34m\u001b[0m\u001b[0m\n\u001b[1;32m   1350\u001b[0m         \u001b[0;32mreturn\u001b[0m \u001b[0mx\u001b[0m\u001b[0;34m\u001b[0m\u001b[0;34m\u001b[0m\u001b[0m\n",
            "\u001b[0;32m/usr/local/lib/python3.9/dist-packages/numpy/core/overrides.py\u001b[0m in \u001b[0;36matleast_1d\u001b[0;34m(*args, **kwargs)\u001b[0m\n",
            "\u001b[0;32m/usr/local/lib/python3.9/dist-packages/numpy/core/shape_base.py\u001b[0m in \u001b[0;36matleast_1d\u001b[0;34m(*arys)\u001b[0m\n\u001b[1;32m     63\u001b[0m     \u001b[0mres\u001b[0m \u001b[0;34m=\u001b[0m \u001b[0;34m[\u001b[0m\u001b[0;34m]\u001b[0m\u001b[0;34m\u001b[0m\u001b[0;34m\u001b[0m\u001b[0m\n\u001b[1;32m     64\u001b[0m     \u001b[0;32mfor\u001b[0m \u001b[0mary\u001b[0m \u001b[0;32min\u001b[0m \u001b[0marys\u001b[0m\u001b[0;34m:\u001b[0m\u001b[0;34m\u001b[0m\u001b[0;34m\u001b[0m\u001b[0m\n\u001b[0;32m---> 65\u001b[0;31m         \u001b[0mary\u001b[0m \u001b[0;34m=\u001b[0m \u001b[0masanyarray\u001b[0m\u001b[0;34m(\u001b[0m\u001b[0mary\u001b[0m\u001b[0;34m)\u001b[0m\u001b[0;34m\u001b[0m\u001b[0;34m\u001b[0m\u001b[0m\n\u001b[0m\u001b[1;32m     66\u001b[0m         \u001b[0;32mif\u001b[0m \u001b[0mary\u001b[0m\u001b[0;34m.\u001b[0m\u001b[0mndim\u001b[0m \u001b[0;34m==\u001b[0m \u001b[0;36m0\u001b[0m\u001b[0;34m:\u001b[0m\u001b[0;34m\u001b[0m\u001b[0;34m\u001b[0m\u001b[0m\n\u001b[1;32m     67\u001b[0m             \u001b[0mresult\u001b[0m \u001b[0;34m=\u001b[0m \u001b[0mary\u001b[0m\u001b[0;34m.\u001b[0m\u001b[0mreshape\u001b[0m\u001b[0;34m(\u001b[0m\u001b[0;36m1\u001b[0m\u001b[0;34m)\u001b[0m\u001b[0;34m\u001b[0m\u001b[0;34m\u001b[0m\u001b[0m\n",
            "\u001b[0;32m/usr/local/lib/python3.9/dist-packages/torch/_tensor.py\u001b[0m in \u001b[0;36m__array__\u001b[0;34m(self, dtype)\u001b[0m\n\u001b[1;32m    968\u001b[0m             \u001b[0;32mreturn\u001b[0m \u001b[0mhandle_torch_function\u001b[0m\u001b[0;34m(\u001b[0m\u001b[0mTensor\u001b[0m\u001b[0;34m.\u001b[0m\u001b[0m__array__\u001b[0m\u001b[0;34m,\u001b[0m \u001b[0;34m(\u001b[0m\u001b[0mself\u001b[0m\u001b[0;34m,\u001b[0m\u001b[0;34m)\u001b[0m\u001b[0;34m,\u001b[0m \u001b[0mself\u001b[0m\u001b[0;34m,\u001b[0m \u001b[0mdtype\u001b[0m\u001b[0;34m=\u001b[0m\u001b[0mdtype\u001b[0m\u001b[0;34m)\u001b[0m\u001b[0;34m\u001b[0m\u001b[0;34m\u001b[0m\u001b[0m\n\u001b[1;32m    969\u001b[0m         \u001b[0;32mif\u001b[0m \u001b[0mdtype\u001b[0m \u001b[0;32mis\u001b[0m \u001b[0;32mNone\u001b[0m\u001b[0;34m:\u001b[0m\u001b[0;34m\u001b[0m\u001b[0;34m\u001b[0m\u001b[0m\n\u001b[0;32m--> 970\u001b[0;31m             \u001b[0;32mreturn\u001b[0m \u001b[0mself\u001b[0m\u001b[0;34m.\u001b[0m\u001b[0mnumpy\u001b[0m\u001b[0;34m(\u001b[0m\u001b[0;34m)\u001b[0m\u001b[0;34m\u001b[0m\u001b[0;34m\u001b[0m\u001b[0m\n\u001b[0m\u001b[1;32m    971\u001b[0m         \u001b[0;32melse\u001b[0m\u001b[0;34m:\u001b[0m\u001b[0;34m\u001b[0m\u001b[0;34m\u001b[0m\u001b[0m\n\u001b[1;32m    972\u001b[0m             \u001b[0;32mreturn\u001b[0m \u001b[0mself\u001b[0m\u001b[0;34m.\u001b[0m\u001b[0mnumpy\u001b[0m\u001b[0;34m(\u001b[0m\u001b[0;34m)\u001b[0m\u001b[0;34m.\u001b[0m\u001b[0mastype\u001b[0m\u001b[0;34m(\u001b[0m\u001b[0mdtype\u001b[0m\u001b[0;34m,\u001b[0m \u001b[0mcopy\u001b[0m\u001b[0;34m=\u001b[0m\u001b[0;32mFalse\u001b[0m\u001b[0;34m)\u001b[0m\u001b[0;34m\u001b[0m\u001b[0;34m\u001b[0m\u001b[0m\n",
            "\u001b[0;31mRuntimeError\u001b[0m: Can't call numpy() on Tensor that requires grad. Use tensor.detach().numpy() instead."
          ]
        },
        {
          "data": {
            "image/png": "[encoded data removed]",
            "text/plain": [
              "<Figure size 1800x800 with 1 Axes>"
            ]
          },
          "metadata": {},
          "output_type": "display_data"
        }
      ],
      "source": [
        "visualize_loss_acc(eval_value)"
      ]
    },
    {
      "cell_type": "code",
      "execution_count": null,
      "metadata": {
        "id": "I2gsN0Wx3Sd8"
      },
      "outputs": [],
      "source": [
        "visualize_loss_acc(eval_value_relu)"
      ]
    },
    {
      "cell_type": "markdown",
      "metadata": {
        "id": "lPjxX_wd3he6"
      },
      "source": [
        "8. Creating Eval model func"
      ]
    },
    {
      "cell_type": "code",
      "execution_count": 40,
      "metadata": {
        "id": "gykUbv0MqyUl"
      },
      "outputs": [],
      "source": [
        "def eval_model(model : nn.Module,\n",
        "              dataloader : torch.utils.data.DataLoader,\n",
        "              loss_fn : nn.CrossEntropyLoss,\n",
        "              accuracy_fn):\n",
        "    \n",
        "    model.eval()\n",
        "    with torch.inference_mode():\n",
        "        loss = 0\n",
        "        acc = 0\n",
        "        for X,y in dataloader :\n",
        "            y_pred = model(X)\n",
        "            loss += loss_fn(y_pred,y)\n",
        "\n",
        "            y_ped_label = y_pred.argmax(dim=1)\n",
        "            acc += accuracy_fn(y_ped_label,y)\n",
        "\n",
        "        loss /= len(dataloader)\n",
        "        acc /= len(dataloader)\n",
        "\n",
        "    return loss,acc"
      ]
    },
    {
      "cell_type": "code",
      "execution_count": 41,
      "metadata": {
        "colab": {
          "base_uri": "https://localhost:8080/"
        },
        "id": "HCBs4VQFuYb6",
        "outputId": "67f71b58-c5fa-436b-cbb5-3c9652f83693"
      },
      "outputs": [
        {
          "name": "stdout",
          "output_type": "stream",
          "text": [
            "Evaluting model not relu# Train dataloader# Loss : 0.40434712171554565, Acc : 0.859250009059906\n",
            "Evaluting model not relu# Test dataloader# Loss : 0.4804428219795227, Acc : 0.8333666324615479\n"
          ]
        }
      ],
      "source": [
        "loss_train,acc_train = eval_model(\n",
        "    model=model_not_relu,\n",
        "    dataloader=train_dataloader,\n",
        "    loss_fn=loss_fn,\n",
        "    accuracy_fn=accuracy_fn)\n",
        "print(f\"Evaluting model not relu# Train Dataloader# Loss : {loss_train}, Acc : {acc_train}\")\n",
        "\n",
        "loss_test,acc_test = eval_model(\n",
        "    model=model_not_relu,\n",
        "    dataloader=test_dataloader,\n",
        "    loss_fn=loss_fn,\n",
        "    accuracy_fn=accuracy_fn)\n",
        "print(f\"Evaluting model not relu# Test Dataloader# Loss : {loss_test}, Acc : {acc_test}\")"
      ]
    },
    {
      "cell_type": "code",
      "execution_count": 42,
      "metadata": {
        "colab": {
          "base_uri": "https://localhost:8080/"
        },
        "id": "G_DcWzGl3u1I",
        "outputId": "de2d2df2-bb6b-4893-d957-09c333ebcfe6"
      },
      "outputs": [
        {
          "name": "stdout",
          "output_type": "stream",
          "text": [
            "Evaluting model relu# Train dataloader# Loss : 0.3831934928894043, Acc : 0.8656666874885559\n",
            "Evaluting model relu# Test dataloader# Loss : 0.460781455039978, Acc : 0.8407548069953918\n"
          ]
        }
      ],
      "source": [
        "loss_train,acc_train = eval_model(\n",
        "    model=model_relu,\n",
        "    dataloader=train_dataloader,\n",
        "    loss_fn=loss_fn,\n",
        "    accuracy_fn=accuracy_fn)\n",
        "print(f\"Evaluting model relu# Train Dataloader# Loss : {loss_train}, Acc : {acc_train}\")\n",
        "\n",
        "loss_test,acc_test = eval_model(\n",
        "    model=model_relu,\n",
        "    dataloader=test_dataloader,\n",
        "    loss_fn=loss_fn,\n",
        "    accuracy_fn=accuracy_fn)\n",
        "print(f\"Evaluting model relu# Test Dataloader# Loss : {loss_test}, Acc : {acc_test}\")"
      ]
    },
    {
      "cell_type": "markdown",
      "metadata": {
        "id": "5Hn7fOs55hJA"
      },
      "source": [
        "9. Save model"
      ]
    },
    {
      "cell_type": "code",
      "execution_count": 43,
      "metadata": {
        "id": "VC9YQrkx5xlp"
      },
      "outputs": [],
      "source": [
        "from pathlib import Path \n",
        "\n",
        "MODEL = Path(\"model\")\n",
        "MODEL.mkdir(parents=True,exist_ok=True)"
      ]
    },
    {
      "cell_type": "code",
      "execution_count": 44,
      "metadata": {
        "id": "dzMrnxNX6jS6"
      },
      "outputs": [],
      "source": [
        "MODEL_NAME_NOT_RELU = \"model_FashionMNIST_Linear_not_relu\"\n",
        "MODEL_PATH_NOT_RELU = MODEL / MODEL_NAME_NOT_RELU\n",
        "\n",
        "torch.save(obj=model_not_relu.state_dict(),f=MODEL_PATH_NOT_RELU)"
      ]
    },
    {
      "cell_type": "code",
      "execution_count": 45,
      "metadata": {
        "id": "9DukywlA60Im"
      },
      "outputs": [],
      "source": [
        "MODEL_NAME_RELU = \"model_FashionMNIST_Linear_relu\"\n",
        "MODEL_PATH_RELU = MODEL / MODEL_NAME_RELU\n",
        "\n",
        "torch.save(obj=model_relu.state_dict(),f=MODEL_PATH_RELU)"
      ]
    },
    {
      "cell_type": "markdown",
      "metadata": {
        "id": "rs8zQYmF6_Yy"
      },
      "source": [
        "**END**"
      ]
    }
  ],
  "metadata": {
    "colab": {
      "provenance": []
    },
    "kernelspec": {
      "display_name": "Python 3",
      "name": "python3"
    },
    "language_info": {
      "codemirror_mode": {
        "name": "ipython",
        "version": 3
      },
      "file_extension": ".py",
      "mimetype": "text/x-python",
      "name": "python",
      "nbconvert_exporter": "python",
      "pygments_lexer": "ipython3",
      "version": "3.10.8"
    },
    "widgets": {
      "application/vnd.jupyter.widget-state+json": {
        "1848b03e54bf48aab152a1e464773f45": {
          "model_module": "@jupyter-widgets/controls",
          "model_module_version": "1.5.0",
          "model_name": "HTMLModel",
          "state": {
            "_dom_classes": [],
            "_model_module": "@jupyter-widgets/controls",
            "_model_module_version": "1.5.0",
            "_model_name": "HTMLModel",
            "_view_count": null,
            "_view_module": "@jupyter-widgets/controls",
            "_view_module_version": "1.5.0",
            "_view_name": "HTMLView",
            "description": "",
            "description_tooltip": null,
            "layout": "IPY_MODEL_28b09b4ed5ac40e19db9eeef38b3be28",
            "placeholder": "​",
            "style": "IPY_MODEL_8fba660669034dc4b6cfb9819c9ec9d6",
            "value": " 25/25 [07:09&lt;00:00, 15.94s/it]"
          }
        },
        "22b42cfeedce4570975b5b99b6428646": {
          "model_module": "@jupyter-widgets/base",
          "model_module_version": "1.2.0",
          "model_name": "LayoutModel",
          "state": {
            "_model_module": "@jupyter-widgets/base",
            "_model_module_version": "1.2.0",
            "_model_name": "LayoutModel",
            "_view_count": null,
            "_view_module": "@jupyter-widgets/base",
            "_view_module_version": "1.2.0",
            "_view_name": "LayoutView",
            "align_content": null,
            "align_items": null,
            "align_self": null,
            "border": null,
            "bottom": null,
            "display": null,
            "flex": null,
            "flex_flow": null,
            "grid_area": null,
            "grid_auto_columns": null,
            "grid_auto_flow": null,
            "grid_auto_rows": null,
            "grid_column": null,
            "grid_gap": null,
            "grid_row": null,
            "grid_template_areas": null,
            "grid_template_columns": null,
            "grid_template_rows": null,
            "height": null,
            "justify_content": null,
            "justify_items": null,
            "left": null,
            "margin": null,
            "max_height": null,
            "max_width": null,
            "min_height": null,
            "min_width": null,
            "object_fit": null,
            "object_position": null,
            "order": null,
            "overflow": null,
            "overflow_x": null,
            "overflow_y": null,
            "padding": null,
            "right": null,
            "top": null,
            "visibility": null,
            "width": null
          }
        },
        "28b09b4ed5ac40e19db9eeef38b3be28": {
          "model_module": "@jupyter-widgets/base",
          "model_module_version": "1.2.0",
          "model_name": "LayoutModel",
          "state": {
            "_model_module": "@jupyter-widgets/base",
            "_model_module_version": "1.2.0",
            "_model_name": "LayoutModel",
            "_view_count": null,
            "_view_module": "@jupyter-widgets/base",
            "_view_module_version": "1.2.0",
            "_view_name": "LayoutView",
            "align_content": null,
            "align_items": null,
            "align_self": null,
            "border": null,
            "bottom": null,
            "display": null,
            "flex": null,
            "flex_flow": null,
            "grid_area": null,
            "grid_auto_columns": null,
            "grid_auto_flow": null,
            "grid_auto_rows": null,
            "grid_column": null,
            "grid_gap": null,
            "grid_row": null,
            "grid_template_areas": null,
            "grid_template_columns": null,
            "grid_template_rows": null,
            "height": null,
            "justify_content": null,
            "justify_items": null,
            "left": null,
            "margin": null,
            "max_height": null,
            "max_width": null,
            "min_height": null,
            "min_width": null,
            "object_fit": null,
            "object_position": null,
            "order": null,
            "overflow": null,
            "overflow_x": null,
            "overflow_y": null,
            "padding": null,
            "right": null,
            "top": null,
            "visibility": null,
            "width": null
          }
        },
        "2a220b96a2c04696a1523a2d2d9b5aaa": {
          "model_module": "@jupyter-widgets/controls",
          "model_module_version": "1.5.0",
          "model_name": "HTMLModel",
          "state": {
            "_dom_classes": [],
            "_model_module": "@jupyter-widgets/controls",
            "_model_module_version": "1.5.0",
            "_model_name": "HTMLModel",
            "_view_count": null,
            "_view_module": "@jupyter-widgets/controls",
            "_view_module_version": "1.5.0",
            "_view_name": "HTMLView",
            "description": "",
            "description_tooltip": null,
            "layout": "IPY_MODEL_bd520bfde0264410982e76624096f0aa",
            "placeholder": "​",
            "style": "IPY_MODEL_6bbae98cadbd4aee8e2810baaabeb87e",
            "value": "100%"
          }
        },
        "36d39cac6e8347e7bec409758ab36577": {
          "model_module": "@jupyter-widgets/controls",
          "model_module_version": "1.5.0",
          "model_name": "HTMLModel",
          "state": {
            "_dom_classes": [],
            "_model_module": "@jupyter-widgets/controls",
            "_model_module_version": "1.5.0",
            "_model_name": "HTMLModel",
            "_view_count": null,
            "_view_module": "@jupyter-widgets/controls",
            "_view_module_version": "1.5.0",
            "_view_name": "HTMLView",
            "description": "",
            "description_tooltip": null,
            "layout": "IPY_MODEL_9cdb72521cfc4516a7a36c01d87ccac8",
            "placeholder": "​",
            "style": "IPY_MODEL_931f649f632543d3b9935bd93a4ed52a",
            "value": " 25/25 [07:09&lt;00:00, 16.56s/it]"
          }
        },
        "502bfd1538f445eb9edcda56d0370911": {
          "model_module": "@jupyter-widgets/controls",
          "model_module_version": "1.5.0",
          "model_name": "ProgressStyleModel",
          "state": {
            "_model_module": "@jupyter-widgets/controls",
            "_model_module_version": "1.5.0",
            "_model_name": "ProgressStyleModel",
            "_view_count": null,
            "_view_module": "@jupyter-widgets/base",
            "_view_module_version": "1.2.0",
            "_view_name": "StyleView",
            "bar_color": null,
            "description_width": ""
          }
        },
        "58fcbd8f8682419a8098f48b33640379": {
          "model_module": "@jupyter-widgets/controls",
          "model_module_version": "1.5.0",
          "model_name": "DescriptionStyleModel",
          "state": {
            "_model_module": "@jupyter-widgets/controls",
            "_model_module_version": "1.5.0",
            "_model_name": "DescriptionStyleModel",
            "_view_count": null,
            "_view_module": "@jupyter-widgets/base",
            "_view_module_version": "1.2.0",
            "_view_name": "StyleView",
            "description_width": ""
          }
        },
        "5ab8e52db41545c081e6f73f252c77d8": {
          "model_module": "@jupyter-widgets/base",
          "model_module_version": "1.2.0",
          "model_name": "LayoutModel",
          "state": {
            "_model_module": "@jupyter-widgets/base",
            "_model_module_version": "1.2.0",
            "_model_name": "LayoutModel",
            "_view_count": null,
            "_view_module": "@jupyter-widgets/base",
            "_view_module_version": "1.2.0",
            "_view_name": "LayoutView",
            "align_content": null,
            "align_items": null,
            "align_self": null,
            "border": null,
            "bottom": null,
            "display": null,
            "flex": null,
            "flex_flow": null,
            "grid_area": null,
            "grid_auto_columns": null,
            "grid_auto_flow": null,
            "grid_auto_rows": null,
            "grid_column": null,
            "grid_gap": null,
            "grid_row": null,
            "grid_template_areas": null,
            "grid_template_columns": null,
            "grid_template_rows": null,
            "height": null,
            "justify_content": null,
            "justify_items": null,
            "left": null,
            "margin": null,
            "max_height": null,
            "max_width": null,
            "min_height": null,
            "min_width": null,
            "object_fit": null,
            "object_position": null,
            "order": null,
            "overflow": null,
            "overflow_x": null,
            "overflow_y": null,
            "padding": null,
            "right": null,
            "top": null,
            "visibility": null,
            "width": null
          }
        },
        "6bbae98cadbd4aee8e2810baaabeb87e": {
          "model_module": "@jupyter-widgets/controls",
          "model_module_version": "1.5.0",
          "model_name": "DescriptionStyleModel",
          "state": {
            "_model_module": "@jupyter-widgets/controls",
            "_model_module_version": "1.5.0",
            "_model_name": "DescriptionStyleModel",
            "_view_count": null,
            "_view_module": "@jupyter-widgets/base",
            "_view_module_version": "1.2.0",
            "_view_name": "StyleView",
            "description_width": ""
          }
        },
        "7210830c818f417ba833d4fe2d134e29": {
          "model_module": "@jupyter-widgets/controls",
          "model_module_version": "1.5.0",
          "model_name": "HBoxModel",
          "state": {
            "_dom_classes": [],
            "_model_module": "@jupyter-widgets/controls",
            "_model_module_version": "1.5.0",
            "_model_name": "HBoxModel",
            "_view_count": null,
            "_view_module": "@jupyter-widgets/controls",
            "_view_module_version": "1.5.0",
            "_view_name": "HBoxView",
            "box_style": "",
            "children": [
              "IPY_MODEL_2a220b96a2c04696a1523a2d2d9b5aaa",
              "IPY_MODEL_9e44423b8e19428bab08c4e4936bc6f3",
              "IPY_MODEL_36d39cac6e8347e7bec409758ab36577"
            ],
            "layout": "IPY_MODEL_22b42cfeedce4570975b5b99b6428646"
          }
        },
        "7b5b361f7ff0478abce8bd763e645ad5": {
          "model_module": "@jupyter-widgets/controls",
          "model_module_version": "1.5.0",
          "model_name": "ProgressStyleModel",
          "state": {
            "_model_module": "@jupyter-widgets/controls",
            "_model_module_version": "1.5.0",
            "_model_name": "ProgressStyleModel",
            "_view_count": null,
            "_view_module": "@jupyter-widgets/base",
            "_view_module_version": "1.2.0",
            "_view_name": "StyleView",
            "bar_color": null,
            "description_width": ""
          }
        },
        "8d2cf269cc7f4938a4a4afc9514ceec3": {
          "model_module": "@jupyter-widgets/controls",
          "model_module_version": "1.5.0",
          "model_name": "HBoxModel",
          "state": {
            "_dom_classes": [],
            "_model_module": "@jupyter-widgets/controls",
            "_model_module_version": "1.5.0",
            "_model_name": "HBoxModel",
            "_view_count": null,
            "_view_module": "@jupyter-widgets/controls",
            "_view_module_version": "1.5.0",
            "_view_name": "HBoxView",
            "box_style": "",
            "children": [
              "IPY_MODEL_e218375a118b4ddb97e9096d16377eab",
              "IPY_MODEL_a1f08010f6294048b87ae656706a15af",
              "IPY_MODEL_1848b03e54bf48aab152a1e464773f45"
            ],
            "layout": "IPY_MODEL_d716eb56c3894102bb2611e233df9c62"
          }
        },
        "8fba660669034dc4b6cfb9819c9ec9d6": {
          "model_module": "@jupyter-widgets/controls",
          "model_module_version": "1.5.0",
          "model_name": "DescriptionStyleModel",
          "state": {
            "_model_module": "@jupyter-widgets/controls",
            "_model_module_version": "1.5.0",
            "_model_name": "DescriptionStyleModel",
            "_view_count": null,
            "_view_module": "@jupyter-widgets/base",
            "_view_module_version": "1.2.0",
            "_view_name": "StyleView",
            "description_width": ""
          }
        },
        "931f649f632543d3b9935bd93a4ed52a": {
          "model_module": "@jupyter-widgets/controls",
          "model_module_version": "1.5.0",
          "model_name": "DescriptionStyleModel",
          "state": {
            "_model_module": "@jupyter-widgets/controls",
            "_model_module_version": "1.5.0",
            "_model_name": "DescriptionStyleModel",
            "_view_count": null,
            "_view_module": "@jupyter-widgets/base",
            "_view_module_version": "1.2.0",
            "_view_name": "StyleView",
            "description_width": ""
          }
        },
        "9cdb72521cfc4516a7a36c01d87ccac8": {
          "model_module": "@jupyter-widgets/base",
          "model_module_version": "1.2.0",
          "model_name": "LayoutModel",
          "state": {
            "_model_module": "@jupyter-widgets/base",
            "_model_module_version": "1.2.0",
            "_model_name": "LayoutModel",
            "_view_count": null,
            "_view_module": "@jupyter-widgets/base",
            "_view_module_version": "1.2.0",
            "_view_name": "LayoutView",
            "align_content": null,
            "align_items": null,
            "align_self": null,
            "border": null,
            "bottom": null,
            "display": null,
            "flex": null,
            "flex_flow": null,
            "grid_area": null,
            "grid_auto_columns": null,
            "grid_auto_flow": null,
            "grid_auto_rows": null,
            "grid_column": null,
            "grid_gap": null,
            "grid_row": null,
            "grid_template_areas": null,
            "grid_template_columns": null,
            "grid_template_rows": null,
            "height": null,
            "justify_content": null,
            "justify_items": null,
            "left": null,
            "margin": null,
            "max_height": null,
            "max_width": null,
            "min_height": null,
            "min_width": null,
            "object_fit": null,
            "object_position": null,
            "order": null,
            "overflow": null,
            "overflow_x": null,
            "overflow_y": null,
            "padding": null,
            "right": null,
            "top": null,
            "visibility": null,
            "width": null
          }
        },
        "9e44423b8e19428bab08c4e4936bc6f3": {
          "model_module": "@jupyter-widgets/controls",
          "model_module_version": "1.5.0",
          "model_name": "FloatProgressModel",
          "state": {
            "_dom_classes": [],
            "_model_module": "@jupyter-widgets/controls",
            "_model_module_version": "1.5.0",
            "_model_name": "FloatProgressModel",
            "_view_count": null,
            "_view_module": "@jupyter-widgets/controls",
            "_view_module_version": "1.5.0",
            "_view_name": "ProgressView",
            "bar_style": "success",
            "description": "",
            "description_tooltip": null,
            "layout": "IPY_MODEL_c50a91a55f4b4e2aa783a7c4340f713b",
            "max": 25,
            "min": 0,
            "orientation": "horizontal",
            "style": "IPY_MODEL_502bfd1538f445eb9edcda56d0370911",
            "value": 25
          }
        },
        "a1f08010f6294048b87ae656706a15af": {
          "model_module": "@jupyter-widgets/controls",
          "model_module_version": "1.5.0",
          "model_name": "FloatProgressModel",
          "state": {
            "_dom_classes": [],
            "_model_module": "@jupyter-widgets/controls",
            "_model_module_version": "1.5.0",
            "_model_name": "FloatProgressModel",
            "_view_count": null,
            "_view_module": "@jupyter-widgets/controls",
            "_view_module_version": "1.5.0",
            "_view_name": "ProgressView",
            "bar_style": "success",
            "description": "",
            "description_tooltip": null,
            "layout": "IPY_MODEL_b8fae6ae84f147b191721480e63ce7c0",
            "max": 25,
            "min": 0,
            "orientation": "horizontal",
            "style": "IPY_MODEL_7b5b361f7ff0478abce8bd763e645ad5",
            "value": 25
          }
        },
        "b8fae6ae84f147b191721480e63ce7c0": {
          "model_module": "@jupyter-widgets/base",
          "model_module_version": "1.2.0",
          "model_name": "LayoutModel",
          "state": {
            "_model_module": "@jupyter-widgets/base",
            "_model_module_version": "1.2.0",
            "_model_name": "LayoutModel",
            "_view_count": null,
            "_view_module": "@jupyter-widgets/base",
            "_view_module_version": "1.2.0",
            "_view_name": "LayoutView",
            "align_content": null,
            "align_items": null,
            "align_self": null,
            "border": null,
            "bottom": null,
            "display": null,
            "flex": null,
            "flex_flow": null,
            "grid_area": null,
            "grid_auto_columns": null,
            "grid_auto_flow": null,
            "grid_auto_rows": null,
            "grid_column": null,
            "grid_gap": null,
            "grid_row": null,
            "grid_template_areas": null,
            "grid_template_columns": null,
            "grid_template_rows": null,
            "height": null,
            "justify_content": null,
            "justify_items": null,
            "left": null,
            "margin": null,
            "max_height": null,
            "max_width": null,
            "min_height": null,
            "min_width": null,
            "object_fit": null,
            "object_position": null,
            "order": null,
            "overflow": null,
            "overflow_x": null,
            "overflow_y": null,
            "padding": null,
            "right": null,
            "top": null,
            "visibility": null,
            "width": null
          }
        },
        "bd520bfde0264410982e76624096f0aa": {
          "model_module": "@jupyter-widgets/base",
          "model_module_version": "1.2.0",
          "model_name": "LayoutModel",
          "state": {
            "_model_module": "@jupyter-widgets/base",
            "_model_module_version": "1.2.0",
            "_model_name": "LayoutModel",
            "_view_count": null,
            "_view_module": "@jupyter-widgets/base",
            "_view_module_version": "1.2.0",
            "_view_name": "LayoutView",
            "align_content": null,
            "align_items": null,
            "align_self": null,
            "border": null,
            "bottom": null,
            "display": null,
            "flex": null,
            "flex_flow": null,
            "grid_area": null,
            "grid_auto_columns": null,
            "grid_auto_flow": null,
            "grid_auto_rows": null,
            "grid_column": null,
            "grid_gap": null,
            "grid_row": null,
            "grid_template_areas": null,
            "grid_template_columns": null,
            "grid_template_rows": null,
            "height": null,
            "justify_content": null,
            "justify_items": null,
            "left": null,
            "margin": null,
            "max_height": null,
            "max_width": null,
            "min_height": null,
            "min_width": null,
            "object_fit": null,
            "object_position": null,
            "order": null,
            "overflow": null,
            "overflow_x": null,
            "overflow_y": null,
            "padding": null,
            "right": null,
            "top": null,
            "visibility": null,
            "width": null
          }
        },
        "c50a91a55f4b4e2aa783a7c4340f713b": {
          "model_module": "@jupyter-widgets/base",
          "model_module_version": "1.2.0",
          "model_name": "LayoutModel",
          "state": {
            "_model_module": "@jupyter-widgets/base",
            "_model_module_version": "1.2.0",
            "_model_name": "LayoutModel",
            "_view_count": null,
            "_view_module": "@jupyter-widgets/base",
            "_view_module_version": "1.2.0",
            "_view_name": "LayoutView",
            "align_content": null,
            "align_items": null,
            "align_self": null,
            "border": null,
            "bottom": null,
            "display": null,
            "flex": null,
            "flex_flow": null,
            "grid_area": null,
            "grid_auto_columns": null,
            "grid_auto_flow": null,
            "grid_auto_rows": null,
            "grid_column": null,
            "grid_gap": null,
            "grid_row": null,
            "grid_template_areas": null,
            "grid_template_columns": null,
            "grid_template_rows": null,
            "height": null,
            "justify_content": null,
            "justify_items": null,
            "left": null,
            "margin": null,
            "max_height": null,
            "max_width": null,
            "min_height": null,
            "min_width": null,
            "object_fit": null,
            "object_position": null,
            "order": null,
            "overflow": null,
            "overflow_x": null,
            "overflow_y": null,
            "padding": null,
            "right": null,
            "top": null,
            "visibility": null,
            "width": null
          }
        },
        "d716eb56c3894102bb2611e233df9c62": {
          "model_module": "@jupyter-widgets/base",
          "model_module_version": "1.2.0",
          "model_name": "LayoutModel",
          "state": {
            "_model_module": "@jupyter-widgets/base",
            "_model_module_version": "1.2.0",
            "_model_name": "LayoutModel",
            "_view_count": null,
            "_view_module": "@jupyter-widgets/base",
            "_view_module_version": "1.2.0",
            "_view_name": "LayoutView",
            "align_content": null,
            "align_items": null,
            "align_self": null,
            "border": null,
            "bottom": null,
            "display": null,
            "flex": null,
            "flex_flow": null,
            "grid_area": null,
            "grid_auto_columns": null,
            "grid_auto_flow": null,
            "grid_auto_rows": null,
            "grid_column": null,
            "grid_gap": null,
            "grid_row": null,
            "grid_template_areas": null,
            "grid_template_columns": null,
            "grid_template_rows": null,
            "height": null,
            "justify_content": null,
            "justify_items": null,
            "left": null,
            "margin": null,
            "max_height": null,
            "max_width": null,
            "min_height": null,
            "min_width": null,
            "object_fit": null,
            "object_position": null,
            "order": null,
            "overflow": null,
            "overflow_x": null,
            "overflow_y": null,
            "padding": null,
            "right": null,
            "top": null,
            "visibility": null,
            "width": null
          }
        },
        "e218375a118b4ddb97e9096d16377eab": {
          "model_module": "@jupyter-widgets/controls",
          "model_module_version": "1.5.0",
          "model_name": "HTMLModel",
          "state": {
            "_dom_classes": [],
            "_model_module": "@jupyter-widgets/controls",
            "_model_module_version": "1.5.0",
            "_model_name": "HTMLModel",
            "_view_count": null,
            "_view_module": "@jupyter-widgets/controls",
            "_view_module_version": "1.5.0",
            "_view_name": "HTMLView",
            "description": "",
            "description_tooltip": null,
            "layout": "IPY_MODEL_5ab8e52db41545c081e6f73f252c77d8",
            "placeholder": "​",
            "style": "IPY_MODEL_58fcbd8f8682419a8098f48b33640379",
            "value": "100%"
          }
        }
      }
    }
  },
  "nbformat": 4,
  "nbformat_minor": 0
}

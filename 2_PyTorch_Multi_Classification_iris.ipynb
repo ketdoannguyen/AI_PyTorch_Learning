{
  "nbformat": 4,
  "nbformat_minor": 0,
  "metadata": {
    "colab": {
      "provenance": []
    },
    "kernelspec": {
      "name": "python3",
      "display_name": "Python 3"
    },
    "language_info": {
      "name": "python"
    }
  },
  "cells": [
    {
      "cell_type": "markdown",
      "source": [
        "**MULTI CLASSIFICATION WITH PYTORCH**"
      ],
      "metadata": {
        "id": "CgOolVxJGiTf"
      }
    },
    {
      "cell_type": "markdown",
      "source": [
        "*DATASETS : sklearn.datasets.load_iris*"
      ],
      "metadata": {
        "id": "nUCei7_rGjwZ"
      }
    },
    {
      "cell_type": "code",
      "source": [
        "! pip install torchmetrics"
      ],
      "metadata": {
        "colab": {
          "base_uri": "https://localhost:8080/"
        },
        "id": "2SEemFzzXRSn",
        "outputId": "56ba37d7-492c-4298-bd16-b0c9f2dcd6c7"
      },
      "execution_count": 1,
      "outputs": [
        {
          "output_type": "stream",
          "name": "stdout",
          "text": [
            "Looking in indexes: https://pypi.org/simple, https://us-python.pkg.dev/colab-wheels/public/simple/\n",
            "Collecting torchmetrics\n",
            "  Downloading torchmetrics-0.11.4-py3-none-any.whl (519 kB)\n",
            "\u001b[2K     \u001b[90m━━━━━━━━━━━━━━━━━━━━━━━━━━━━━━━━━━━━━━━\u001b[0m \u001b[32m519.2/519.2 kB\u001b[0m \u001b[31m4.2 MB/s\u001b[0m eta \u001b[36m0:00:00\u001b[0m\n",
            "\u001b[?25hRequirement already satisfied: numpy>=1.17.2 in /usr/local/lib/python3.9/dist-packages (from torchmetrics) (1.22.4)\n",
            "Requirement already satisfied: torch>=1.8.1 in /usr/local/lib/python3.9/dist-packages (from torchmetrics) (2.0.0+cu118)\n",
            "Requirement already satisfied: packaging in /usr/local/lib/python3.9/dist-packages (from torchmetrics) (23.0)\n",
            "Requirement already satisfied: filelock in /usr/local/lib/python3.9/dist-packages (from torch>=1.8.1->torchmetrics) (3.11.0)\n",
            "Requirement already satisfied: networkx in /usr/local/lib/python3.9/dist-packages (from torch>=1.8.1->torchmetrics) (3.1)\n",
            "Requirement already satisfied: typing-extensions in /usr/local/lib/python3.9/dist-packages (from torch>=1.8.1->torchmetrics) (4.5.0)\n",
            "Requirement already satisfied: triton==2.0.0 in /usr/local/lib/python3.9/dist-packages (from torch>=1.8.1->torchmetrics) (2.0.0)\n",
            "Requirement already satisfied: sympy in /usr/local/lib/python3.9/dist-packages (from torch>=1.8.1->torchmetrics) (1.11.1)\n",
            "Requirement already satisfied: jinja2 in /usr/local/lib/python3.9/dist-packages (from torch>=1.8.1->torchmetrics) (3.1.2)\n",
            "Requirement already satisfied: lit in /usr/local/lib/python3.9/dist-packages (from triton==2.0.0->torch>=1.8.1->torchmetrics) (16.0.0)\n",
            "Requirement already satisfied: cmake in /usr/local/lib/python3.9/dist-packages (from triton==2.0.0->torch>=1.8.1->torchmetrics) (3.25.2)\n",
            "Requirement already satisfied: MarkupSafe>=2.0 in /usr/local/lib/python3.9/dist-packages (from jinja2->torch>=1.8.1->torchmetrics) (2.1.2)\n",
            "Requirement already satisfied: mpmath>=0.19 in /usr/local/lib/python3.9/dist-packages (from sympy->torch>=1.8.1->torchmetrics) (1.3.0)\n",
            "Installing collected packages: torchmetrics\n",
            "Successfully installed torchmetrics-0.11.4\n"
          ]
        }
      ]
    },
    {
      "cell_type": "code",
      "execution_count": 2,
      "metadata": {
        "id": "JRfMdQxaKr6U"
      },
      "outputs": [],
      "source": [
        "from sklearn.datasets import load_iris\n",
        "from sklearn.model_selection import train_test_split\n",
        "import torch\n",
        "from torch import nn\n",
        "import torchmetrics as tm\n",
        "import numpy as np\n",
        "import pandas as pd\n",
        "import matplotlib.pyplot as plt"
      ]
    },
    {
      "cell_type": "code",
      "source": [
        "iris = load_iris()\n",
        "x = iris.data\n",
        "y = iris.target\n",
        "print(x[:5])\n",
        "print(y[:5])\n",
        "x.shape , y.shape"
      ],
      "metadata": {
        "colab": {
          "base_uri": "https://localhost:8080/"
        },
        "id": "kolwF98CK6Iq",
        "outputId": "d2c40e83-b0ae-4ea0-abd3-9078344ed3cf"
      },
      "execution_count": 3,
      "outputs": [
        {
          "output_type": "stream",
          "name": "stdout",
          "text": [
            "[[5.1 3.5 1.4 0.2]\n",
            " [4.9 3.  1.4 0.2]\n",
            " [4.7 3.2 1.3 0.2]\n",
            " [4.6 3.1 1.5 0.2]\n",
            " [5.  3.6 1.4 0.2]]\n",
            "[0 0 0 0 0]\n"
          ]
        },
        {
          "output_type": "execute_result",
          "data": {
            "text/plain": [
              "((150, 4), (150,))"
            ]
          },
          "metadata": {},
          "execution_count": 3
        }
      ]
    },
    {
      "cell_type": "code",
      "source": [
        "x = torch.from_numpy(x).type(torch.float)\n",
        "y = torch.from_numpy(y).type(torch.LongTensor)\n",
        "\n",
        "x_train,x_test,y_train,y_test = train_test_split(x,y,test_size=0.2)\n",
        "x_train.shape,y_train.shape,x_test.shape,y_test.shape"
      ],
      "metadata": {
        "colab": {
          "base_uri": "https://localhost:8080/"
        },
        "id": "obx-2ECZMMPQ",
        "outputId": "8067a503-fc20-43f2-808f-9313fb7f2fe2"
      },
      "execution_count": 4,
      "outputs": [
        {
          "output_type": "execute_result",
          "data": {
            "text/plain": [
              "(torch.Size([120, 4]),\n",
              " torch.Size([120]),\n",
              " torch.Size([30, 4]),\n",
              " torch.Size([30]))"
            ]
          },
          "metadata": {},
          "execution_count": 4
        }
      ]
    },
    {
      "cell_type": "code",
      "source": [
        "class MultiClassificationModelV0(nn.Module):\n",
        "    def __init__(self):\n",
        "        super().__init__()\n",
        "        self.linear1 = nn.Linear(in_features=4,out_features=8)\n",
        "        self.linear2 = nn.Linear(in_features=8,out_features=8)\n",
        "        self.linear3 = nn.Linear(in_features=8,out_features=3)\n",
        "        self.relu = nn.ReLU()\n",
        "\n",
        "    def forward(self,x:torch.Tensor) -> torch.Tensor :\n",
        "        layer1 = self.linear1(x)\n",
        "        layer2 = self.linear2(self.relu(layer1))\n",
        "        layer3 = self.linear3(self.relu(layer2))\n",
        "        return layer3"
      ],
      "metadata": {
        "id": "5OOGKJ9JMt75"
      },
      "execution_count": 5,
      "outputs": []
    },
    {
      "cell_type": "code",
      "source": [
        "model = MultiClassificationModelV0()\n",
        "print(model)"
      ],
      "metadata": {
        "colab": {
          "base_uri": "https://localhost:8080/"
        },
        "id": "v6nK7rviM2TB",
        "outputId": "f6cc8037-9d35-4257-a22c-7e5651ff044f"
      },
      "execution_count": 6,
      "outputs": [
        {
          "output_type": "stream",
          "name": "stdout",
          "text": [
            "MultiClassificationModelV0(\n",
            "  (linear1): Linear(in_features=4, out_features=8, bias=True)\n",
            "  (linear2): Linear(in_features=8, out_features=8, bias=True)\n",
            "  (linear3): Linear(in_features=8, out_features=3, bias=True)\n",
            "  (relu): ReLU()\n",
            ")\n"
          ]
        }
      ]
    },
    {
      "cell_type": "code",
      "source": [
        "model.eval()\n",
        "with torch.inference_mode():\n",
        "    y_pred_test = model(x_test)\n",
        "    y_pred_label = torch.argmax(torch.softmax(y_pred_test,dim=1),dim=1)\n",
        "    print(y_pred_label[:10])\n",
        "    print(y_test[:10])"
      ],
      "metadata": {
        "colab": {
          "base_uri": "https://localhost:8080/"
        },
        "id": "LCQyxe54M4ln",
        "outputId": "a3648ff5-d760-46ce-bdc0-a6727d3e2014"
      },
      "execution_count": 7,
      "outputs": [
        {
          "output_type": "stream",
          "name": "stdout",
          "text": [
            "tensor([2, 2, 2, 2, 2, 2, 2, 2, 2, 2])\n",
            "tensor([1, 2, 0, 2, 2, 0, 1, 1, 0, 0])\n"
          ]
        }
      ]
    },
    {
      "cell_type": "code",
      "source": [
        "lossCross = nn.CrossEntropyLoss()\n",
        "opt = torch.optim.SGD(params=model.parameters(),lr=0.01)"
      ],
      "metadata": {
        "id": "_8KlPNfzXKW9"
      },
      "execution_count": 8,
      "outputs": []
    },
    {
      "cell_type": "code",
      "source": [
        "EPOCHS = 4000\n",
        "epoch_list = []\n",
        "loss_train_list = []\n",
        "loss_test_list = []\n",
        "acc_train_list = []\n",
        "acc_test_list = []\n",
        "multi_acc = tm.Accuracy(task=\"multiclass\", num_classes=3)\n",
        "\n",
        "for epoch in range(EPOCHS):\n",
        "    # training\n",
        "    model.train()\n",
        "\n",
        "    y_pred_train = model(x_train)\n",
        "    loss_train = lossCross(y_pred_train,y_train)\n",
        "\n",
        "    y_pred_label_train = torch.argmax(torch.softmax(y_pred_train,dim=1),dim=1)\n",
        "    acc_train = multi_acc(y_pred_label_train,y_train)\n",
        "\n",
        "    opt.zero_grad()\n",
        "    loss_train.backward()\n",
        "    opt.step()\n",
        "\n",
        "    # evaluting\n",
        "    model.eval()\n",
        "    with torch.inference_mode():\n",
        "        y_pred_test = model(x_test).type(torch.float)\n",
        "        loss_test = lossCross(y_pred_test,y_test)\n",
        "\n",
        "        y_pred_label_test = torch.argmax(torch.softmax(y_pred_test,dim=1),dim=1)\n",
        "        acc_test = multi_acc(y_pred_label_test,y_test)\n",
        "\n",
        "        if epoch % 100 == 0:\n",
        "            print(f\"Epoch {epoch}#\")\n",
        "            print(f\"Loss train : {loss_train}, Accuracy train : {acc_train}%\")\n",
        "            print(f\"Loss test : {loss_test}, Accuracy test : {acc_test}%\")\n",
        "\n",
        "            epoch_list.append(epoch)\n",
        "            loss_train_list.append(loss_train.detach().numpy())\n",
        "            loss_test_list.append(loss_test.detach().numpy())\n",
        "            acc_train_list.append(acc_train)\n",
        "            acc_test_list.append(acc_test)"
      ],
      "metadata": {
        "colab": {
          "base_uri": "https://localhost:8080/"
        },
        "id": "8jQDmPfEXMyf",
        "outputId": "657e46bd-82b7-4c9d-9b11-6bb26b942599"
      },
      "execution_count": 9,
      "outputs": [
        {
          "output_type": "stream",
          "name": "stdout",
          "text": [
            "Epoch 0#\n",
            "Loss train : 1.2648144960403442, Accuracy train : 0.30000001192092896%\n",
            "Loss test : 1.2752703428268433, Accuracy test : 0.2666666805744171%\n",
            "Epoch 100#\n",
            "Loss train : 1.1052889823913574, Accuracy train : 0.34166666865348816%\n",
            "Loss test : 1.115241289138794, Accuracy test : 0.30000001192092896%\n",
            "Epoch 200#\n",
            "Loss train : 1.0147172212600708, Accuracy train : 0.3583333194255829%\n",
            "Loss test : 1.0231736898422241, Accuracy test : 0.30000001192092896%\n",
            "Epoch 300#\n",
            "Loss train : 0.8110170960426331, Accuracy train : 0.675000011920929%\n",
            "Loss test : 0.8313416242599487, Accuracy test : 0.6333333253860474%\n",
            "Epoch 400#\n",
            "Loss train : 0.5828098654747009, Accuracy train : 0.6916666626930237%\n",
            "Loss test : 0.6070066690444946, Accuracy test : 0.8333333134651184%\n",
            "Epoch 500#\n",
            "Loss train : 0.46361133456230164, Accuracy train : 0.875%\n",
            "Loss test : 0.47666630148887634, Accuracy test : 0.9333333373069763%\n",
            "Epoch 600#\n",
            "Loss train : 0.388523668050766, Accuracy train : 0.949999988079071%\n",
            "Loss test : 0.38789087533950806, Accuracy test : 1.0%\n",
            "Epoch 700#\n",
            "Loss train : 0.3220924735069275, Accuracy train : 0.9750000238418579%\n",
            "Loss test : 0.3110399544239044, Accuracy test : 1.0%\n",
            "Epoch 800#\n",
            "Loss train : 0.2606472373008728, Accuracy train : 0.9750000238418579%\n",
            "Loss test : 0.24554471671581268, Accuracy test : 1.0%\n",
            "Epoch 900#\n",
            "Loss train : 0.20903892815113068, Accuracy train : 0.9750000238418579%\n",
            "Loss test : 0.19542184472084045, Accuracy test : 1.0%\n",
            "Epoch 1000#\n",
            "Loss train : 0.17016026377677917, Accuracy train : 0.9750000238418579%\n",
            "Loss test : 0.1603439450263977, Accuracy test : 1.0%\n",
            "Epoch 1100#\n",
            "Loss train : 0.14258044958114624, Accuracy train : 0.9750000238418579%\n",
            "Loss test : 0.136619433760643, Accuracy test : 1.0%\n",
            "Epoch 1200#\n",
            "Loss train : 0.12330944091081619, Accuracy train : 0.9750000238418579%\n",
            "Loss test : 0.12026308476924896, Accuracy test : 1.0%\n",
            "Epoch 1300#\n",
            "Loss train : 0.10965919494628906, Accuracy train : 0.9833333492279053%\n",
            "Loss test : 0.10869911313056946, Accuracy test : 1.0%\n",
            "Epoch 1400#\n",
            "Loss train : 0.09976495802402496, Accuracy train : 0.9833333492279053%\n",
            "Loss test : 0.10020288079977036, Accuracy test : 1.0%\n",
            "Epoch 1500#\n",
            "Loss train : 0.0924116000533104, Accuracy train : 0.9833333492279053%\n",
            "Loss test : 0.0938100591301918, Accuracy test : 1.0%\n",
            "Epoch 1600#\n",
            "Loss train : 0.08681176602840424, Accuracy train : 0.9833333492279053%\n",
            "Loss test : 0.08875461667776108, Accuracy test : 1.0%\n",
            "Epoch 1700#\n",
            "Loss train : 0.08244580775499344, Accuracy train : 0.9833333492279053%\n",
            "Loss test : 0.08472803235054016, Accuracy test : 1.0%\n",
            "Epoch 1800#\n",
            "Loss train : 0.0789729431271553, Accuracy train : 0.9750000238418579%\n",
            "Loss test : 0.081386037170887, Accuracy test : 1.0%\n",
            "Epoch 1900#\n",
            "Loss train : 0.07616118341684341, Accuracy train : 0.9750000238418579%\n",
            "Loss test : 0.07858942449092865, Accuracy test : 1.0%\n",
            "Epoch 2000#\n",
            "Loss train : 0.07385145872831345, Accuracy train : 0.9750000238418579%\n",
            "Loss test : 0.07621320337057114, Accuracy test : 1.0%\n",
            "Epoch 2100#\n",
            "Loss train : 0.07192937284708023, Accuracy train : 0.9750000238418579%\n",
            "Loss test : 0.07413087040185928, Accuracy test : 1.0%\n",
            "Epoch 2200#\n",
            "Loss train : 0.07031025737524033, Accuracy train : 0.9833333492279053%\n",
            "Loss test : 0.0723101794719696, Accuracy test : 1.0%\n",
            "Epoch 2300#\n",
            "Loss train : 0.06893322616815567, Accuracy train : 0.9833333492279053%\n",
            "Loss test : 0.07071699947118759, Accuracy test : 1.0%\n",
            "Epoch 2400#\n",
            "Loss train : 0.06775280088186264, Accuracy train : 0.9833333492279053%\n",
            "Loss test : 0.06930617988109589, Accuracy test : 1.0%\n",
            "Epoch 2500#\n",
            "Loss train : 0.06673233211040497, Accuracy train : 0.9833333492279053%\n",
            "Loss test : 0.06807167083024979, Accuracy test : 1.0%\n",
            "Epoch 2600#\n",
            "Loss train : 0.06584262102842331, Accuracy train : 0.9750000238418579%\n",
            "Loss test : 0.06692016124725342, Accuracy test : 1.0%\n",
            "Epoch 2700#\n",
            "Loss train : 0.06506166607141495, Accuracy train : 0.9750000238418579%\n",
            "Loss test : 0.06587372720241547, Accuracy test : 1.0%\n",
            "Epoch 2800#\n",
            "Loss train : 0.06437189877033234, Accuracy train : 0.9750000238418579%\n",
            "Loss test : 0.06492048501968384, Accuracy test : 1.0%\n",
            "Epoch 2900#\n",
            "Loss train : 0.06375935673713684, Accuracy train : 0.9750000238418579%\n",
            "Loss test : 0.06403917819261551, Accuracy test : 1.0%\n",
            "Epoch 3000#\n",
            "Loss train : 0.06321199238300323, Accuracy train : 0.9750000238418579%\n",
            "Loss test : 0.06322207301855087, Accuracy test : 1.0%\n",
            "Epoch 3100#\n",
            "Loss train : 0.0627203956246376, Accuracy train : 0.9750000238418579%\n",
            "Loss test : 0.06246047094464302, Accuracy test : 1.0%\n",
            "Epoch 3200#\n",
            "Loss train : 0.06227649375796318, Accuracy train : 0.9750000238418579%\n",
            "Loss test : 0.0617489255964756, Accuracy test : 1.0%\n",
            "Epoch 3300#\n",
            "Loss train : 0.0618736706674099, Accuracy train : 0.9750000238418579%\n",
            "Loss test : 0.06108209118247032, Accuracy test : 1.0%\n",
            "Epoch 3400#\n",
            "Loss train : 0.06150642782449722, Accuracy train : 0.9750000238418579%\n",
            "Loss test : 0.06045505031943321, Accuracy test : 1.0%\n",
            "Epoch 3500#\n",
            "Loss train : 0.06117023155093193, Accuracy train : 0.9750000238418579%\n",
            "Loss test : 0.05987439677119255, Accuracy test : 1.0%\n",
            "Epoch 3600#\n",
            "Loss train : 0.06086134538054466, Accuracy train : 0.9750000238418579%\n",
            "Loss test : 0.059321966022253036, Accuracy test : 1.0%\n",
            "Epoch 3700#\n",
            "Loss train : 0.0605759471654892, Accuracy train : 0.9750000238418579%\n",
            "Loss test : 0.05877433717250824, Accuracy test : 1.0%\n",
            "Epoch 3800#\n",
            "Loss train : 0.06031123548746109, Accuracy train : 0.9750000238418579%\n",
            "Loss test : 0.05827608332037926, Accuracy test : 1.0%\n",
            "Epoch 3900#\n",
            "Loss train : 0.060064543038606644, Accuracy train : 0.9750000238418579%\n",
            "Loss test : 0.05777638778090477, Accuracy test : 1.0%\n"
          ]
        }
      ]
    },
    {
      "cell_type": "code",
      "source": [
        "model.eval()\n",
        "with torch.inference_mode():\n",
        "    y_pred_test = model(x_test)\n",
        "    y_pred_label = torch.argmax(torch.softmax(y_pred_test,dim=1),dim=1)\n",
        "    print(y_pred_label[:20])\n",
        "    print(y_test[:20])"
      ],
      "metadata": {
        "colab": {
          "base_uri": "https://localhost:8080/"
        },
        "id": "cJ7dMgsmYLdp",
        "outputId": "5a8203b7-d6a3-4967-989b-1bfaa417ad76"
      },
      "execution_count": 10,
      "outputs": [
        {
          "output_type": "stream",
          "name": "stdout",
          "text": [
            "tensor([1, 2, 0, 2, 2, 0, 1, 1, 0, 0, 1, 0, 1, 2, 0, 1, 2, 1, 1, 0])\n",
            "tensor([1, 2, 0, 2, 2, 0, 1, 1, 0, 0, 1, 0, 1, 2, 0, 1, 2, 1, 1, 0])\n"
          ]
        }
      ]
    },
    {
      "cell_type": "code",
      "source": [
        "plt.figure(figsize=(18,8))\n",
        "plt.suptitle(\"Visualize Loss and Accuracy\", fontsize=18)\n",
        "\n",
        "plt.subplot(1,2,1)\n",
        "plt.plot(epoch_list,loss_train_list,label=\"Training Loss\")\n",
        "plt.plot(epoch_list,loss_test_list,label=\"Testing Loss\")\n",
        "plt.title(\"Loss\")\n",
        "plt.xlabel(\"Epoch\")\n",
        "plt.ylabel(\"Loss\")\n",
        "plt.legend()\n",
        "\n",
        "plt.subplot(1,2,2)\n",
        "plt.plot(epoch_list,acc_train_list,label=\"Training Accuracy\")\n",
        "plt.plot(epoch_list,acc_test_list,label=\"Testing Accuracy\")\n",
        "plt.title(\"Accuracy\")\n",
        "plt.xlabel(\"Epoch\")\n",
        "plt.ylabel(\"Accuracy\")\n",
        "plt.legend()\n",
        "\n",
        "plt.show()"
      ],
      "metadata": {
        "id": "MLMSfvZFdYwN",
        "outputId": "b1c70448-1784-47d5-f786-97cfdae2629b",
        "colab": {
          "base_uri": "https://localhost:8080/",
          "height": 592
        }
      },
      "execution_count": 11,
      "outputs": [
        {
          "output_type": "display_data",
          "data": {
            "text/plain": [
              "<Figure size 1800x800 with 2 Axes>"
            ],
            "image/png": "[encoded data removed]"
          },
          "metadata": {}
        }
      ]
    },
    {
      "cell_type": "code",
      "source": [
        "from pathlib import Path \n",
        "\n",
        "MODEL = Path(\"model\")\n",
        "MODEL.mkdir(parents=True,exist_ok=True)\n",
        "MODEL_NAME= \"iris_multi_classification_model.pth\"\n",
        "MODEL_PATH = MODEL / MODEL_NAME\n",
        "\n",
        "torch.save(obj=model.state_dict(),f=MODEL_PATH)"
      ],
      "metadata": {
        "id": "LDSygqVXGvDP"
      },
      "execution_count": 12,
      "outputs": []
    }
  ]
}